{
 "cells": [
  {
   "cell_type": "markdown",
   "id": "8fa2c6ee",
   "metadata": {},
   "source": [
    "## Introduction"
   ]
  },
  {
   "cell_type": "markdown",
   "id": "385cbd8c",
   "metadata": {},
   "source": [
    "A bike-sharing system is a service in which bikes are made available for shared use to individuals on a short term basis for a price or free.\n",
    "Requirement is to build a multiple linear regression model for the prediction of demand for shared bikes. \n",
    "\n",
    "### The company wants to know:\n",
    "##### -- Which variables are significant in predicting the demand for shared bikes.\n",
    "##### -- How well those variables describe the bike demands\n"
   ]
  },
  {
   "cell_type": "markdown",
   "id": "959364a3",
   "metadata": {},
   "source": [
    "## Business Goal "
   ]
  },
  {
   "cell_type": "markdown",
   "id": "feb93847",
   "metadata": {},
   "source": [
    "You are required to model the demand for shared bikes with the available independent variables. It will be used by the management to understand how exactly the demands vary with different features. They can accordingly manipulate the business strategy to meet the demand levels and meet the customer's expectations. Further, the model will be a good way for management to understand the demand dynamics of a new market. "
   ]
  },
  {
   "cell_type": "markdown",
   "id": "50c100de",
   "metadata": {},
   "source": [
    "### Importing Libraries"
   ]
  },
  {
   "cell_type": "code",
   "execution_count": 1,
   "id": "90453fe7",
   "metadata": {},
   "outputs": [],
   "source": [
    "import numpy as np\n",
    "import pandas as pd \n",
    "import seaborn as sns\n",
    "import matplotlib.pyplot as plt\n",
    "import sklearn\n",
    "import statsmodels\n",
    "from sklearn.metrics import mean_squared_error\n",
    "from sklearn.metrics import r2_score\n",
    "from sklearn.linear_model import LinearRegression\n",
    "import statsmodels.api as sm\n",
    "from sklearn.model_selection import train_test_split\n",
    "from sklearn.preprocessing import MinMaxScaler"
   ]
  },
  {
   "cell_type": "code",
   "execution_count": 2,
   "id": "f6127d7e",
   "metadata": {},
   "outputs": [],
   "source": [
    "import warnings\n",
    "warnings.filterwarnings('ignore')"
   ]
  },
  {
   "cell_type": "markdown",
   "id": "b672157a",
   "metadata": {},
   "source": [
    "## Data Preparation & EDA"
   ]
  },
  {
   "cell_type": "code",
   "execution_count": 3,
   "id": "7255aad6",
   "metadata": {},
   "outputs": [
    {
     "data": {
      "text/html": [
       "<div>\n",
       "<style scoped>\n",
       "    .dataframe tbody tr th:only-of-type {\n",
       "        vertical-align: middle;\n",
       "    }\n",
       "\n",
       "    .dataframe tbody tr th {\n",
       "        vertical-align: top;\n",
       "    }\n",
       "\n",
       "    .dataframe thead th {\n",
       "        text-align: right;\n",
       "    }\n",
       "</style>\n",
       "<table border=\"1\" class=\"dataframe\">\n",
       "  <thead>\n",
       "    <tr style=\"text-align: right;\">\n",
       "      <th></th>\n",
       "      <th>instant</th>\n",
       "      <th>dteday</th>\n",
       "      <th>season</th>\n",
       "      <th>yr</th>\n",
       "      <th>mnth</th>\n",
       "      <th>holiday</th>\n",
       "      <th>weekday</th>\n",
       "      <th>workingday</th>\n",
       "      <th>weathersit</th>\n",
       "      <th>temp</th>\n",
       "      <th>atemp</th>\n",
       "      <th>hum</th>\n",
       "      <th>windspeed</th>\n",
       "      <th>casual</th>\n",
       "      <th>registered</th>\n",
       "      <th>cnt</th>\n",
       "    </tr>\n",
       "  </thead>\n",
       "  <tbody>\n",
       "    <tr>\n",
       "      <th>0</th>\n",
       "      <td>1</td>\n",
       "      <td>01-01-2018</td>\n",
       "      <td>1</td>\n",
       "      <td>0</td>\n",
       "      <td>1</td>\n",
       "      <td>0</td>\n",
       "      <td>1</td>\n",
       "      <td>1</td>\n",
       "      <td>2</td>\n",
       "      <td>14.110847</td>\n",
       "      <td>18.18125</td>\n",
       "      <td>80.5833</td>\n",
       "      <td>10.749882</td>\n",
       "      <td>331</td>\n",
       "      <td>654</td>\n",
       "      <td>985</td>\n",
       "    </tr>\n",
       "    <tr>\n",
       "      <th>1</th>\n",
       "      <td>2</td>\n",
       "      <td>02-01-2018</td>\n",
       "      <td>1</td>\n",
       "      <td>0</td>\n",
       "      <td>1</td>\n",
       "      <td>0</td>\n",
       "      <td>2</td>\n",
       "      <td>1</td>\n",
       "      <td>2</td>\n",
       "      <td>14.902598</td>\n",
       "      <td>17.68695</td>\n",
       "      <td>69.6087</td>\n",
       "      <td>16.652113</td>\n",
       "      <td>131</td>\n",
       "      <td>670</td>\n",
       "      <td>801</td>\n",
       "    </tr>\n",
       "    <tr>\n",
       "      <th>2</th>\n",
       "      <td>3</td>\n",
       "      <td>03-01-2018</td>\n",
       "      <td>1</td>\n",
       "      <td>0</td>\n",
       "      <td>1</td>\n",
       "      <td>0</td>\n",
       "      <td>3</td>\n",
       "      <td>1</td>\n",
       "      <td>1</td>\n",
       "      <td>8.050924</td>\n",
       "      <td>9.47025</td>\n",
       "      <td>43.7273</td>\n",
       "      <td>16.636703</td>\n",
       "      <td>120</td>\n",
       "      <td>1229</td>\n",
       "      <td>1349</td>\n",
       "    </tr>\n",
       "    <tr>\n",
       "      <th>3</th>\n",
       "      <td>4</td>\n",
       "      <td>04-01-2018</td>\n",
       "      <td>1</td>\n",
       "      <td>0</td>\n",
       "      <td>1</td>\n",
       "      <td>0</td>\n",
       "      <td>4</td>\n",
       "      <td>1</td>\n",
       "      <td>1</td>\n",
       "      <td>8.200000</td>\n",
       "      <td>10.60610</td>\n",
       "      <td>59.0435</td>\n",
       "      <td>10.739832</td>\n",
       "      <td>108</td>\n",
       "      <td>1454</td>\n",
       "      <td>1562</td>\n",
       "    </tr>\n",
       "    <tr>\n",
       "      <th>4</th>\n",
       "      <td>5</td>\n",
       "      <td>05-01-2018</td>\n",
       "      <td>1</td>\n",
       "      <td>0</td>\n",
       "      <td>1</td>\n",
       "      <td>0</td>\n",
       "      <td>5</td>\n",
       "      <td>1</td>\n",
       "      <td>1</td>\n",
       "      <td>9.305237</td>\n",
       "      <td>11.46350</td>\n",
       "      <td>43.6957</td>\n",
       "      <td>12.522300</td>\n",
       "      <td>82</td>\n",
       "      <td>1518</td>\n",
       "      <td>1600</td>\n",
       "    </tr>\n",
       "  </tbody>\n",
       "</table>\n",
       "</div>"
      ],
      "text/plain": [
       "   instant      dteday  season  yr  mnth  holiday  weekday  workingday  \\\n",
       "0        1  01-01-2018       1   0     1        0        1           1   \n",
       "1        2  02-01-2018       1   0     1        0        2           1   \n",
       "2        3  03-01-2018       1   0     1        0        3           1   \n",
       "3        4  04-01-2018       1   0     1        0        4           1   \n",
       "4        5  05-01-2018       1   0     1        0        5           1   \n",
       "\n",
       "   weathersit       temp     atemp      hum  windspeed  casual  registered  \\\n",
       "0           2  14.110847  18.18125  80.5833  10.749882     331         654   \n",
       "1           2  14.902598  17.68695  69.6087  16.652113     131         670   \n",
       "2           1   8.050924   9.47025  43.7273  16.636703     120        1229   \n",
       "3           1   8.200000  10.60610  59.0435  10.739832     108        1454   \n",
       "4           1   9.305237  11.46350  43.6957  12.522300      82        1518   \n",
       "\n",
       "    cnt  \n",
       "0   985  \n",
       "1   801  \n",
       "2  1349  \n",
       "3  1562  \n",
       "4  1600  "
      ]
     },
     "execution_count": 3,
     "metadata": {},
     "output_type": "execute_result"
    }
   ],
   "source": [
    "# reading data\n",
    "data=pd.read_csv('day.csv')\n",
    "data.head()"
   ]
  },
  {
   "cell_type": "code",
   "execution_count": 4,
   "id": "3672e7df",
   "metadata": {},
   "outputs": [
    {
     "data": {
      "text/plain": [
       "(730, 16)"
      ]
     },
     "execution_count": 4,
     "metadata": {},
     "output_type": "execute_result"
    }
   ],
   "source": [
    "#understanding data\n",
    "data.shape"
   ]
  },
  {
   "cell_type": "code",
   "execution_count": 5,
   "id": "354e4ee0",
   "metadata": {},
   "outputs": [
    {
     "data": {
      "text/html": [
       "<div>\n",
       "<style scoped>\n",
       "    .dataframe tbody tr th:only-of-type {\n",
       "        vertical-align: middle;\n",
       "    }\n",
       "\n",
       "    .dataframe tbody tr th {\n",
       "        vertical-align: top;\n",
       "    }\n",
       "\n",
       "    .dataframe thead th {\n",
       "        text-align: right;\n",
       "    }\n",
       "</style>\n",
       "<table border=\"1\" class=\"dataframe\">\n",
       "  <thead>\n",
       "    <tr style=\"text-align: right;\">\n",
       "      <th></th>\n",
       "      <th>instant</th>\n",
       "      <th>season</th>\n",
       "      <th>yr</th>\n",
       "      <th>mnth</th>\n",
       "      <th>holiday</th>\n",
       "      <th>weekday</th>\n",
       "      <th>workingday</th>\n",
       "      <th>weathersit</th>\n",
       "      <th>temp</th>\n",
       "      <th>atemp</th>\n",
       "      <th>hum</th>\n",
       "      <th>windspeed</th>\n",
       "      <th>casual</th>\n",
       "      <th>registered</th>\n",
       "      <th>cnt</th>\n",
       "    </tr>\n",
       "  </thead>\n",
       "  <tbody>\n",
       "    <tr>\n",
       "      <th>count</th>\n",
       "      <td>730.000000</td>\n",
       "      <td>730.000000</td>\n",
       "      <td>730.000000</td>\n",
       "      <td>730.000000</td>\n",
       "      <td>730.000000</td>\n",
       "      <td>730.000000</td>\n",
       "      <td>730.000000</td>\n",
       "      <td>730.000000</td>\n",
       "      <td>730.000000</td>\n",
       "      <td>730.000000</td>\n",
       "      <td>730.000000</td>\n",
       "      <td>730.000000</td>\n",
       "      <td>730.000000</td>\n",
       "      <td>730.000000</td>\n",
       "      <td>730.000000</td>\n",
       "    </tr>\n",
       "    <tr>\n",
       "      <th>mean</th>\n",
       "      <td>365.500000</td>\n",
       "      <td>2.498630</td>\n",
       "      <td>0.500000</td>\n",
       "      <td>6.526027</td>\n",
       "      <td>0.028767</td>\n",
       "      <td>2.995890</td>\n",
       "      <td>0.690411</td>\n",
       "      <td>1.394521</td>\n",
       "      <td>20.319259</td>\n",
       "      <td>23.726322</td>\n",
       "      <td>62.765175</td>\n",
       "      <td>12.763620</td>\n",
       "      <td>849.249315</td>\n",
       "      <td>3658.757534</td>\n",
       "      <td>4508.006849</td>\n",
       "    </tr>\n",
       "    <tr>\n",
       "      <th>std</th>\n",
       "      <td>210.877136</td>\n",
       "      <td>1.110184</td>\n",
       "      <td>0.500343</td>\n",
       "      <td>3.450215</td>\n",
       "      <td>0.167266</td>\n",
       "      <td>2.000339</td>\n",
       "      <td>0.462641</td>\n",
       "      <td>0.544807</td>\n",
       "      <td>7.506729</td>\n",
       "      <td>8.150308</td>\n",
       "      <td>14.237589</td>\n",
       "      <td>5.195841</td>\n",
       "      <td>686.479875</td>\n",
       "      <td>1559.758728</td>\n",
       "      <td>1936.011647</td>\n",
       "    </tr>\n",
       "    <tr>\n",
       "      <th>min</th>\n",
       "      <td>1.000000</td>\n",
       "      <td>1.000000</td>\n",
       "      <td>0.000000</td>\n",
       "      <td>1.000000</td>\n",
       "      <td>0.000000</td>\n",
       "      <td>0.000000</td>\n",
       "      <td>0.000000</td>\n",
       "      <td>1.000000</td>\n",
       "      <td>2.424346</td>\n",
       "      <td>3.953480</td>\n",
       "      <td>0.000000</td>\n",
       "      <td>1.500244</td>\n",
       "      <td>2.000000</td>\n",
       "      <td>20.000000</td>\n",
       "      <td>22.000000</td>\n",
       "    </tr>\n",
       "    <tr>\n",
       "      <th>25%</th>\n",
       "      <td>183.250000</td>\n",
       "      <td>2.000000</td>\n",
       "      <td>0.000000</td>\n",
       "      <td>4.000000</td>\n",
       "      <td>0.000000</td>\n",
       "      <td>1.000000</td>\n",
       "      <td>0.000000</td>\n",
       "      <td>1.000000</td>\n",
       "      <td>13.811885</td>\n",
       "      <td>16.889713</td>\n",
       "      <td>52.000000</td>\n",
       "      <td>9.041650</td>\n",
       "      <td>316.250000</td>\n",
       "      <td>2502.250000</td>\n",
       "      <td>3169.750000</td>\n",
       "    </tr>\n",
       "    <tr>\n",
       "      <th>50%</th>\n",
       "      <td>365.500000</td>\n",
       "      <td>3.000000</td>\n",
       "      <td>0.500000</td>\n",
       "      <td>7.000000</td>\n",
       "      <td>0.000000</td>\n",
       "      <td>3.000000</td>\n",
       "      <td>1.000000</td>\n",
       "      <td>1.000000</td>\n",
       "      <td>20.465826</td>\n",
       "      <td>24.368225</td>\n",
       "      <td>62.625000</td>\n",
       "      <td>12.125325</td>\n",
       "      <td>717.000000</td>\n",
       "      <td>3664.500000</td>\n",
       "      <td>4548.500000</td>\n",
       "    </tr>\n",
       "    <tr>\n",
       "      <th>75%</th>\n",
       "      <td>547.750000</td>\n",
       "      <td>3.000000</td>\n",
       "      <td>1.000000</td>\n",
       "      <td>10.000000</td>\n",
       "      <td>0.000000</td>\n",
       "      <td>5.000000</td>\n",
       "      <td>1.000000</td>\n",
       "      <td>2.000000</td>\n",
       "      <td>26.880615</td>\n",
       "      <td>30.445775</td>\n",
       "      <td>72.989575</td>\n",
       "      <td>15.625589</td>\n",
       "      <td>1096.500000</td>\n",
       "      <td>4783.250000</td>\n",
       "      <td>5966.000000</td>\n",
       "    </tr>\n",
       "    <tr>\n",
       "      <th>max</th>\n",
       "      <td>730.000000</td>\n",
       "      <td>4.000000</td>\n",
       "      <td>1.000000</td>\n",
       "      <td>12.000000</td>\n",
       "      <td>1.000000</td>\n",
       "      <td>6.000000</td>\n",
       "      <td>1.000000</td>\n",
       "      <td>3.000000</td>\n",
       "      <td>35.328347</td>\n",
       "      <td>42.044800</td>\n",
       "      <td>97.250000</td>\n",
       "      <td>34.000021</td>\n",
       "      <td>3410.000000</td>\n",
       "      <td>6946.000000</td>\n",
       "      <td>8714.000000</td>\n",
       "    </tr>\n",
       "  </tbody>\n",
       "</table>\n",
       "</div>"
      ],
      "text/plain": [
       "          instant      season          yr        mnth     holiday     weekday  \\\n",
       "count  730.000000  730.000000  730.000000  730.000000  730.000000  730.000000   \n",
       "mean   365.500000    2.498630    0.500000    6.526027    0.028767    2.995890   \n",
       "std    210.877136    1.110184    0.500343    3.450215    0.167266    2.000339   \n",
       "min      1.000000    1.000000    0.000000    1.000000    0.000000    0.000000   \n",
       "25%    183.250000    2.000000    0.000000    4.000000    0.000000    1.000000   \n",
       "50%    365.500000    3.000000    0.500000    7.000000    0.000000    3.000000   \n",
       "75%    547.750000    3.000000    1.000000   10.000000    0.000000    5.000000   \n",
       "max    730.000000    4.000000    1.000000   12.000000    1.000000    6.000000   \n",
       "\n",
       "       workingday  weathersit        temp       atemp         hum   windspeed  \\\n",
       "count  730.000000  730.000000  730.000000  730.000000  730.000000  730.000000   \n",
       "mean     0.690411    1.394521   20.319259   23.726322   62.765175   12.763620   \n",
       "std      0.462641    0.544807    7.506729    8.150308   14.237589    5.195841   \n",
       "min      0.000000    1.000000    2.424346    3.953480    0.000000    1.500244   \n",
       "25%      0.000000    1.000000   13.811885   16.889713   52.000000    9.041650   \n",
       "50%      1.000000    1.000000   20.465826   24.368225   62.625000   12.125325   \n",
       "75%      1.000000    2.000000   26.880615   30.445775   72.989575   15.625589   \n",
       "max      1.000000    3.000000   35.328347   42.044800   97.250000   34.000021   \n",
       "\n",
       "            casual   registered          cnt  \n",
       "count   730.000000   730.000000   730.000000  \n",
       "mean    849.249315  3658.757534  4508.006849  \n",
       "std     686.479875  1559.758728  1936.011647  \n",
       "min       2.000000    20.000000    22.000000  \n",
       "25%     316.250000  2502.250000  3169.750000  \n",
       "50%     717.000000  3664.500000  4548.500000  \n",
       "75%    1096.500000  4783.250000  5966.000000  \n",
       "max    3410.000000  6946.000000  8714.000000  "
      ]
     },
     "execution_count": 5,
     "metadata": {},
     "output_type": "execute_result"
    }
   ],
   "source": [
    "data.describe()"
   ]
  },
  {
   "cell_type": "code",
   "execution_count": 6,
   "id": "ca5f22a3",
   "metadata": {},
   "outputs": [
    {
     "name": "stdout",
     "output_type": "stream",
     "text": [
      "<class 'pandas.core.frame.DataFrame'>\n",
      "RangeIndex: 730 entries, 0 to 729\n",
      "Data columns (total 16 columns):\n",
      " #   Column      Non-Null Count  Dtype  \n",
      "---  ------      --------------  -----  \n",
      " 0   instant     730 non-null    int64  \n",
      " 1   dteday      730 non-null    object \n",
      " 2   season      730 non-null    int64  \n",
      " 3   yr          730 non-null    int64  \n",
      " 4   mnth        730 non-null    int64  \n",
      " 5   holiday     730 non-null    int64  \n",
      " 6   weekday     730 non-null    int64  \n",
      " 7   workingday  730 non-null    int64  \n",
      " 8   weathersit  730 non-null    int64  \n",
      " 9   temp        730 non-null    float64\n",
      " 10  atemp       730 non-null    float64\n",
      " 11  hum         730 non-null    float64\n",
      " 12  windspeed   730 non-null    float64\n",
      " 13  casual      730 non-null    int64  \n",
      " 14  registered  730 non-null    int64  \n",
      " 15  cnt         730 non-null    int64  \n",
      "dtypes: float64(4), int64(11), object(1)\n",
      "memory usage: 91.4+ KB\n"
     ]
    }
   ],
   "source": [
    "data.info()"
   ]
  },
  {
   "cell_type": "code",
   "execution_count": 7,
   "id": "77131b14",
   "metadata": {
    "scrolled": false
   },
   "outputs": [
    {
     "data": {
      "text/plain": [
       "instant       0\n",
       "dteday        0\n",
       "season        0\n",
       "yr            0\n",
       "mnth          0\n",
       "holiday       0\n",
       "weekday       0\n",
       "workingday    0\n",
       "weathersit    0\n",
       "temp          0\n",
       "atemp         0\n",
       "hum           0\n",
       "windspeed     0\n",
       "casual        0\n",
       "registered    0\n",
       "cnt           0\n",
       "dtype: int64"
      ]
     },
     "execution_count": 7,
     "metadata": {},
     "output_type": "execute_result"
    }
   ],
   "source": [
    "#checking for null values\n",
    "data.isnull().sum()"
   ]
  },
  {
   "cell_type": "markdown",
   "id": "222bbe83",
   "metadata": {},
   "source": [
    "### Dropping columns"
   ]
  },
  {
   "cell_type": "code",
   "execution_count": 8,
   "id": "fcf253e4",
   "metadata": {},
   "outputs": [
    {
     "data": {
      "text/plain": [
       "Index(['instant', 'dteday', 'season', 'yr', 'mnth', 'holiday', 'weekday',\n",
       "       'workingday', 'weathersit', 'temp', 'atemp', 'hum', 'windspeed',\n",
       "       'casual', 'registered', 'cnt'],\n",
       "      dtype='object')"
      ]
     },
     "execution_count": 8,
     "metadata": {},
     "output_type": "execute_result"
    }
   ],
   "source": [
    "data.columns"
   ]
  },
  {
   "cell_type": "code",
   "execution_count": 9,
   "id": "6b9cb800",
   "metadata": {
    "scrolled": true
   },
   "outputs": [
    {
     "data": {
      "text/plain": [
       "0    709\n",
       "1     21\n",
       "Name: holiday, dtype: int64"
      ]
     },
     "execution_count": 9,
     "metadata": {},
     "output_type": "execute_result"
    }
   ],
   "source": [
    "data.holiday.value_counts()"
   ]
  },
  {
   "cell_type": "markdown",
   "id": "77352771",
   "metadata": {},
   "source": [
    "#### Removing columns:\n",
    "1. 'instant' as it only represents the numerical indexing.\n",
    "2. 'dteday' as there are cols for year & month there is less requirement."
   ]
  },
  {
   "cell_type": "code",
   "execution_count": 10,
   "id": "77f246b9",
   "metadata": {},
   "outputs": [],
   "source": [
    "new_data = data[['season', 'yr', 'mnth', 'holiday', 'weekday',\n",
    "       'workingday', 'weathersit', 'temp', 'atemp', 'hum', 'windspeed',\n",
    "       'cnt']]"
   ]
  },
  {
   "cell_type": "code",
   "execution_count": 11,
   "id": "a7051a27",
   "metadata": {},
   "outputs": [
    {
     "name": "stdout",
     "output_type": "stream",
     "text": [
      "<class 'pandas.core.frame.DataFrame'>\n",
      "RangeIndex: 730 entries, 0 to 729\n",
      "Data columns (total 12 columns):\n",
      " #   Column      Non-Null Count  Dtype  \n",
      "---  ------      --------------  -----  \n",
      " 0   season      730 non-null    int64  \n",
      " 1   yr          730 non-null    int64  \n",
      " 2   mnth        730 non-null    int64  \n",
      " 3   holiday     730 non-null    int64  \n",
      " 4   weekday     730 non-null    int64  \n",
      " 5   workingday  730 non-null    int64  \n",
      " 6   weathersit  730 non-null    int64  \n",
      " 7   temp        730 non-null    float64\n",
      " 8   atemp       730 non-null    float64\n",
      " 9   hum         730 non-null    float64\n",
      " 10  windspeed   730 non-null    float64\n",
      " 11  cnt         730 non-null    int64  \n",
      "dtypes: float64(4), int64(8)\n",
      "memory usage: 68.6 KB\n"
     ]
    }
   ],
   "source": [
    "new_data.info()"
   ]
  },
  {
   "cell_type": "code",
   "execution_count": 12,
   "id": "ec27ae19",
   "metadata": {},
   "outputs": [],
   "source": [
    "#converting numerical season values\n",
    "def convert_season(x):\n",
    "    return x.map({1:'spring', 2:'summer', 3:'fall', 4:'winter'})"
   ]
  },
  {
   "cell_type": "code",
   "execution_count": 13,
   "id": "9c04399f",
   "metadata": {},
   "outputs": [
    {
     "data": {
      "text/plain": [
       "fall      188\n",
       "summer    184\n",
       "spring    180\n",
       "winter    178\n",
       "Name: season, dtype: int64"
      ]
     },
     "execution_count": 13,
     "metadata": {},
     "output_type": "execute_result"
    }
   ],
   "source": [
    "new_data[['season']]=new_data[['season']].apply(convert_season)\n",
    "new_data.season.value_counts()"
   ]
  },
  {
   "cell_type": "code",
   "execution_count": 14,
   "id": "500e4d92",
   "metadata": {},
   "outputs": [],
   "source": [
    "#converting numerircal month values\n",
    "def convert_month(x):\n",
    "    return x.map({1:'jan', 2:'feb', 3:'mar', 4:'apr', 5:'may', 6:'jun', 7:'jul', 8:'aug', 9:'sep', 10:'oct', 11:'nov', 12:'dec'})"
   ]
  },
  {
   "cell_type": "code",
   "execution_count": 15,
   "id": "65de56cf",
   "metadata": {},
   "outputs": [
    {
     "data": {
      "text/plain": [
       "dec    62\n",
       "jul    62\n",
       "aug    62\n",
       "mar    62\n",
       "oct    62\n",
       "may    62\n",
       "jan    62\n",
       "jun    60\n",
       "nov    60\n",
       "apr    60\n",
       "sep    60\n",
       "feb    56\n",
       "Name: mnth, dtype: int64"
      ]
     },
     "execution_count": 15,
     "metadata": {},
     "output_type": "execute_result"
    }
   ],
   "source": [
    "new_data[['mnth']]=new_data[['mnth']].apply(convert_month)\n",
    "new_data.mnth.value_counts()"
   ]
  },
  {
   "cell_type": "code",
   "execution_count": 16,
   "id": "43193557",
   "metadata": {},
   "outputs": [],
   "source": [
    "#converting numerircal week values\n",
    "def convert_week(x):\n",
    "    return x.map({0:'sun', 1:'mon', 2:'tues',3:'wed', 4:'thurs', 5:'fri', 6:'sat'})"
   ]
  },
  {
   "cell_type": "code",
   "execution_count": 17,
   "id": "d352cb4f",
   "metadata": {
    "scrolled": true
   },
   "outputs": [
    {
     "data": {
      "text/plain": [
       "tues     105\n",
       "mon      105\n",
       "thurs    104\n",
       "sat      104\n",
       "fri      104\n",
       "wed      104\n",
       "sun      104\n",
       "Name: weekday, dtype: int64"
      ]
     },
     "execution_count": 17,
     "metadata": {},
     "output_type": "execute_result"
    }
   ],
   "source": [
    "new_data[['weekday']]=new_data[['weekday']].apply(convert_week)\n",
    "new_data.weekday.value_counts()"
   ]
  },
  {
   "cell_type": "code",
   "execution_count": 18,
   "id": "4288878f",
   "metadata": {},
   "outputs": [],
   "source": [
    "#converting numerircal weather values\n",
    "def convert_weather(x):\n",
    "    return x.map ({1:'clear', 2:'mist', 3:'snow', 4:'rainy'})"
   ]
  },
  {
   "cell_type": "code",
   "execution_count": 19,
   "id": "032c3188",
   "metadata": {},
   "outputs": [
    {
     "data": {
      "text/plain": [
       "clear    463\n",
       "mist     246\n",
       "snow      21\n",
       "Name: weathersit, dtype: int64"
      ]
     },
     "execution_count": 19,
     "metadata": {},
     "output_type": "execute_result"
    }
   ],
   "source": [
    "new_data[['weathersit']]=new_data[['weathersit']].apply(convert_weather)\n",
    "new_data.weathersit.value_counts()"
   ]
  },
  {
   "cell_type": "markdown",
   "id": "4133dc2b",
   "metadata": {},
   "source": [
    "### Visualising numerical & catagorical data"
   ]
  },
  {
   "cell_type": "code",
   "execution_count": 20,
   "id": "ccac0d5a",
   "metadata": {},
   "outputs": [
    {
     "data": {
      "image/png": "[encoded data removed]",
      "text/plain": [
       "<Figure size 1296x1296 with 6 Axes>"
      ]
     },
     "metadata": {
      "needs_background": "light"
     },
     "output_type": "display_data"
    }
   ],
   "source": [
    "# checking distribution of categorical variables\n",
    "plt.figure(figsize=(18,18))\n",
    "plt.subplot(331)\n",
    "sns.boxplot(x='season', y='cnt',data=new_data)\n",
    "plt.subplot(332)\n",
    "sns.boxplot(x='yr', y='cnt',data=new_data)\n",
    "plt.subplot(333)\n",
    "sns.boxplot(x='mnth', y='cnt',data=new_data)\n",
    "plt.subplot(334)\n",
    "sns.boxplot(x='holiday', y='cnt',data=new_data)\n",
    "plt.subplot(335)\n",
    "sns.boxplot(x='weekday', y='cnt',data=new_data)\n",
    "plt.subplot(336)\n",
    "sns.boxplot(x='weathersit', y='cnt',data=new_data)\n",
    "plt.show()"
   ]
  },
  {
   "cell_type": "markdown",
   "id": "dec37e91",
   "metadata": {},
   "source": [
    "#### Keynotes & observations:\n",
    "1. In first graph, it is observed that fall season have the highest demand count whereas spring season having the lowest.\n",
    "2. As compared to 2018, there were more sales showcasing the high demand for bikes.\n",
    "3. From third graph, it can clearly observed that from may there is hike in demand which falls in summer & fall and mostly schools and colleges are closed during that time.\n",
    "4. For weather graph there is decrease in demand when it snows."
   ]
  },
  {
   "cell_type": "code",
   "execution_count": 21,
   "id": "d90896b9",
   "metadata": {},
   "outputs": [
    {
     "data": {
      "image/png": "[encoded data removed]",
      "text/plain": [
       "<Figure size 1440x1440 with 5 Axes>"
      ]
     },
     "metadata": {
      "needs_background": "light"
     },
     "output_type": "display_data"
    }
   ],
   "source": [
    "# checking for numerical variables density of values\n",
    "plt.figure(figsize=(20,20))\n",
    "plt.subplot(331)\n",
    "sns.distplot(new_data['temp'])\n",
    "plt.subplot(332)\n",
    "sns.distplot(new_data['atemp'])\n",
    "plt.subplot(333)\n",
    "sns.distplot(new_data['hum'])\n",
    "plt.subplot(334)\n",
    "sns.distplot(new_data['cnt'])\n",
    "plt.subplot(335)\n",
    "sns.distplot(new_data['windspeed'])\n",
    "plt.show()"
   ]
  },
  {
   "cell_type": "markdown",
   "id": "f7b7bc66",
   "metadata": {},
   "source": [
    "#### Drawing Correlation heatmap for better understanding collinearity between all variables"
   ]
  },
  {
   "cell_type": "code",
   "execution_count": 22,
   "id": "61a01a17",
   "metadata": {},
   "outputs": [
    {
     "data": {
      "image/png": "[encoded data removed]",
      "text/plain": [
       "<Figure size 1080x720 with 2 Axes>"
      ]
     },
     "metadata": {
      "needs_background": "light"
     },
     "output_type": "display_data"
    }
   ],
   "source": [
    "plt.figure(figsize = (15,10))\n",
    "sns.heatmap(new_data.corr(), annot = True)\n",
    "plt.show()"
   ]
  },
  {
   "cell_type": "markdown",
   "id": "3917865a",
   "metadata": {},
   "source": [
    "### As it is observed that temp & atemp are highly coorelated we will drop atemp"
   ]
  },
  {
   "cell_type": "code",
   "execution_count": 23,
   "id": "82834955",
   "metadata": {},
   "outputs": [
    {
     "name": "stdout",
     "output_type": "stream",
     "text": [
      "<class 'pandas.core.frame.DataFrame'>\n",
      "RangeIndex: 730 entries, 0 to 729\n",
      "Data columns (total 11 columns):\n",
      " #   Column      Non-Null Count  Dtype  \n",
      "---  ------      --------------  -----  \n",
      " 0   season      730 non-null    object \n",
      " 1   yr          730 non-null    int64  \n",
      " 2   mnth        730 non-null    object \n",
      " 3   holiday     730 non-null    int64  \n",
      " 4   weekday     730 non-null    object \n",
      " 5   workingday  730 non-null    int64  \n",
      " 6   weathersit  730 non-null    object \n",
      " 7   temp        730 non-null    float64\n",
      " 8   hum         730 non-null    float64\n",
      " 9   windspeed   730 non-null    float64\n",
      " 10  cnt         730 non-null    int64  \n",
      "dtypes: float64(3), int64(4), object(4)\n",
      "memory usage: 62.9+ KB\n"
     ]
    }
   ],
   "source": [
    "new_data.drop('atemp',axis=1, inplace=True)\n",
    "new_data.info()"
   ]
  },
  {
   "cell_type": "markdown",
   "id": "a91341f6",
   "metadata": {},
   "source": [
    "### Creating dummies for categorial variables"
   ]
  },
  {
   "cell_type": "code",
   "execution_count": 24,
   "id": "e1fa0a42",
   "metadata": {},
   "outputs": [
    {
     "data": {
      "text/plain": [
       "(730, 29)"
      ]
     },
     "execution_count": 24,
     "metadata": {},
     "output_type": "execute_result"
    }
   ],
   "source": [
    "new_data = pd.get_dummies(new_data, drop_first=True)\n",
    "new_data.shape"
   ]
  },
  {
   "cell_type": "markdown",
   "id": "81138068",
   "metadata": {},
   "source": [
    "### Next splitting data into train & test sets"
   ]
  },
  {
   "cell_type": "code",
   "execution_count": 25,
   "id": "b1646267",
   "metadata": {},
   "outputs": [],
   "source": [
    "data_train , data_test = train_test_split(new_data, train_size=0.7, random_state=100)"
   ]
  },
  {
   "cell_type": "code",
   "execution_count": 26,
   "id": "5996224a",
   "metadata": {},
   "outputs": [
    {
     "data": {
      "text/plain": [
       "(510, 29)"
      ]
     },
     "execution_count": 26,
     "metadata": {},
     "output_type": "execute_result"
    }
   ],
   "source": [
    "data_train.shape"
   ]
  },
  {
   "cell_type": "code",
   "execution_count": 27,
   "id": "88d8ab5a",
   "metadata": {},
   "outputs": [
    {
     "data": {
      "text/plain": [
       "(220, 29)"
      ]
     },
     "execution_count": 27,
     "metadata": {},
     "output_type": "execute_result"
    }
   ],
   "source": [
    "data_test.shape"
   ]
  },
  {
   "cell_type": "markdown",
   "id": "d63793d4",
   "metadata": {},
   "source": [
    "### Rescaling of the some variables using MinMaxScaler"
   ]
  },
  {
   "cell_type": "code",
   "execution_count": 28,
   "id": "d35cf2ee",
   "metadata": {},
   "outputs": [
    {
     "data": {
      "text/html": [
       "<div>\n",
       "<style scoped>\n",
       "    .dataframe tbody tr th:only-of-type {\n",
       "        vertical-align: middle;\n",
       "    }\n",
       "\n",
       "    .dataframe tbody tr th {\n",
       "        vertical-align: top;\n",
       "    }\n",
       "\n",
       "    .dataframe thead th {\n",
       "        text-align: right;\n",
       "    }\n",
       "</style>\n",
       "<table border=\"1\" class=\"dataframe\">\n",
       "  <thead>\n",
       "    <tr style=\"text-align: right;\">\n",
       "      <th></th>\n",
       "      <th>yr</th>\n",
       "      <th>holiday</th>\n",
       "      <th>workingday</th>\n",
       "      <th>temp</th>\n",
       "      <th>hum</th>\n",
       "      <th>windspeed</th>\n",
       "      <th>cnt</th>\n",
       "      <th>season_spring</th>\n",
       "      <th>season_summer</th>\n",
       "      <th>season_winter</th>\n",
       "      <th>...</th>\n",
       "      <th>mnth_oct</th>\n",
       "      <th>mnth_sep</th>\n",
       "      <th>weekday_mon</th>\n",
       "      <th>weekday_sat</th>\n",
       "      <th>weekday_sun</th>\n",
       "      <th>weekday_thurs</th>\n",
       "      <th>weekday_tues</th>\n",
       "      <th>weekday_wed</th>\n",
       "      <th>weathersit_mist</th>\n",
       "      <th>weathersit_snow</th>\n",
       "    </tr>\n",
       "  </thead>\n",
       "  <tbody>\n",
       "    <tr>\n",
       "      <th>576</th>\n",
       "      <td>1</td>\n",
       "      <td>0</td>\n",
       "      <td>1</td>\n",
       "      <td>0.815169</td>\n",
       "      <td>0.725633</td>\n",
       "      <td>0.264686</td>\n",
       "      <td>0.827658</td>\n",
       "      <td>0</td>\n",
       "      <td>0</td>\n",
       "      <td>0</td>\n",
       "      <td>...</td>\n",
       "      <td>0</td>\n",
       "      <td>0</td>\n",
       "      <td>0</td>\n",
       "      <td>0</td>\n",
       "      <td>0</td>\n",
       "      <td>0</td>\n",
       "      <td>0</td>\n",
       "      <td>1</td>\n",
       "      <td>0</td>\n",
       "      <td>0</td>\n",
       "    </tr>\n",
       "    <tr>\n",
       "      <th>426</th>\n",
       "      <td>1</td>\n",
       "      <td>0</td>\n",
       "      <td>0</td>\n",
       "      <td>0.442393</td>\n",
       "      <td>0.640189</td>\n",
       "      <td>0.255342</td>\n",
       "      <td>0.465255</td>\n",
       "      <td>1</td>\n",
       "      <td>0</td>\n",
       "      <td>0</td>\n",
       "      <td>...</td>\n",
       "      <td>0</td>\n",
       "      <td>0</td>\n",
       "      <td>0</td>\n",
       "      <td>0</td>\n",
       "      <td>1</td>\n",
       "      <td>0</td>\n",
       "      <td>0</td>\n",
       "      <td>0</td>\n",
       "      <td>1</td>\n",
       "      <td>0</td>\n",
       "    </tr>\n",
       "    <tr>\n",
       "      <th>728</th>\n",
       "      <td>1</td>\n",
       "      <td>0</td>\n",
       "      <td>1</td>\n",
       "      <td>0.245101</td>\n",
       "      <td>0.498067</td>\n",
       "      <td>0.663106</td>\n",
       "      <td>0.204096</td>\n",
       "      <td>1</td>\n",
       "      <td>0</td>\n",
       "      <td>0</td>\n",
       "      <td>...</td>\n",
       "      <td>0</td>\n",
       "      <td>0</td>\n",
       "      <td>1</td>\n",
       "      <td>0</td>\n",
       "      <td>0</td>\n",
       "      <td>0</td>\n",
       "      <td>0</td>\n",
       "      <td>0</td>\n",
       "      <td>0</td>\n",
       "      <td>0</td>\n",
       "    </tr>\n",
       "    <tr>\n",
       "      <th>482</th>\n",
       "      <td>1</td>\n",
       "      <td>0</td>\n",
       "      <td>0</td>\n",
       "      <td>0.395666</td>\n",
       "      <td>0.504508</td>\n",
       "      <td>0.188475</td>\n",
       "      <td>0.482973</td>\n",
       "      <td>0</td>\n",
       "      <td>1</td>\n",
       "      <td>0</td>\n",
       "      <td>...</td>\n",
       "      <td>0</td>\n",
       "      <td>0</td>\n",
       "      <td>0</td>\n",
       "      <td>0</td>\n",
       "      <td>1</td>\n",
       "      <td>0</td>\n",
       "      <td>0</td>\n",
       "      <td>0</td>\n",
       "      <td>1</td>\n",
       "      <td>0</td>\n",
       "    </tr>\n",
       "    <tr>\n",
       "      <th>111</th>\n",
       "      <td>0</td>\n",
       "      <td>0</td>\n",
       "      <td>0</td>\n",
       "      <td>0.345824</td>\n",
       "      <td>0.751824</td>\n",
       "      <td>0.380981</td>\n",
       "      <td>0.191095</td>\n",
       "      <td>0</td>\n",
       "      <td>1</td>\n",
       "      <td>0</td>\n",
       "      <td>...</td>\n",
       "      <td>0</td>\n",
       "      <td>0</td>\n",
       "      <td>0</td>\n",
       "      <td>0</td>\n",
       "      <td>1</td>\n",
       "      <td>0</td>\n",
       "      <td>0</td>\n",
       "      <td>0</td>\n",
       "      <td>1</td>\n",
       "      <td>0</td>\n",
       "    </tr>\n",
       "  </tbody>\n",
       "</table>\n",
       "<p>5 rows × 29 columns</p>\n",
       "</div>"
      ],
      "text/plain": [
       "     yr  holiday  workingday      temp       hum  windspeed       cnt  \\\n",
       "576   1        0           1  0.815169  0.725633   0.264686  0.827658   \n",
       "426   1        0           0  0.442393  0.640189   0.255342  0.465255   \n",
       "728   1        0           1  0.245101  0.498067   0.663106  0.204096   \n",
       "482   1        0           0  0.395666  0.504508   0.188475  0.482973   \n",
       "111   0        0           0  0.345824  0.751824   0.380981  0.191095   \n",
       "\n",
       "     season_spring  season_summer  season_winter  ...  mnth_oct  mnth_sep  \\\n",
       "576              0              0              0  ...         0         0   \n",
       "426              1              0              0  ...         0         0   \n",
       "728              1              0              0  ...         0         0   \n",
       "482              0              1              0  ...         0         0   \n",
       "111              0              1              0  ...         0         0   \n",
       "\n",
       "     weekday_mon  weekday_sat  weekday_sun  weekday_thurs  weekday_tues  \\\n",
       "576            0            0            0              0             0   \n",
       "426            0            0            1              0             0   \n",
       "728            1            0            0              0             0   \n",
       "482            0            0            1              0             0   \n",
       "111            0            0            1              0             0   \n",
       "\n",
       "     weekday_wed  weathersit_mist  weathersit_snow  \n",
       "576            1                0                0  \n",
       "426            0                1                0  \n",
       "728            0                0                0  \n",
       "482            0                1                0  \n",
       "111            0                1                0  \n",
       "\n",
       "[5 rows x 29 columns]"
      ]
     },
     "execution_count": 28,
     "metadata": {},
     "output_type": "execute_result"
    }
   ],
   "source": [
    "scaler= MinMaxScaler()\n",
    "num_var=['temp','hum','windspeed','cnt']\n",
    "data_train[num_var]=scaler.fit_transform(data_train[num_var])\n",
    "data_train.head()"
   ]
  },
  {
   "cell_type": "code",
   "execution_count": 29,
   "id": "51e3eced",
   "metadata": {},
   "outputs": [
    {
     "data": {
      "text/html": [
       "<div>\n",
       "<style scoped>\n",
       "    .dataframe tbody tr th:only-of-type {\n",
       "        vertical-align: middle;\n",
       "    }\n",
       "\n",
       "    .dataframe tbody tr th {\n",
       "        vertical-align: top;\n",
       "    }\n",
       "\n",
       "    .dataframe thead th {\n",
       "        text-align: right;\n",
       "    }\n",
       "</style>\n",
       "<table border=\"1\" class=\"dataframe\">\n",
       "  <thead>\n",
       "    <tr style=\"text-align: right;\">\n",
       "      <th></th>\n",
       "      <th>yr</th>\n",
       "      <th>holiday</th>\n",
       "      <th>workingday</th>\n",
       "      <th>temp</th>\n",
       "      <th>hum</th>\n",
       "      <th>windspeed</th>\n",
       "      <th>cnt</th>\n",
       "      <th>season_spring</th>\n",
       "      <th>season_summer</th>\n",
       "      <th>season_winter</th>\n",
       "      <th>...</th>\n",
       "      <th>mnth_oct</th>\n",
       "      <th>mnth_sep</th>\n",
       "      <th>weekday_mon</th>\n",
       "      <th>weekday_sat</th>\n",
       "      <th>weekday_sun</th>\n",
       "      <th>weekday_thurs</th>\n",
       "      <th>weekday_tues</th>\n",
       "      <th>weekday_wed</th>\n",
       "      <th>weathersit_mist</th>\n",
       "      <th>weathersit_snow</th>\n",
       "    </tr>\n",
       "  </thead>\n",
       "  <tbody>\n",
       "    <tr>\n",
       "      <th>count</th>\n",
       "      <td>510.000000</td>\n",
       "      <td>510.000000</td>\n",
       "      <td>510.000000</td>\n",
       "      <td>510.000000</td>\n",
       "      <td>510.000000</td>\n",
       "      <td>510.000000</td>\n",
       "      <td>510.000000</td>\n",
       "      <td>510.000000</td>\n",
       "      <td>510.000000</td>\n",
       "      <td>510.000000</td>\n",
       "      <td>...</td>\n",
       "      <td>510.000000</td>\n",
       "      <td>510.000000</td>\n",
       "      <td>510.000000</td>\n",
       "      <td>510.000000</td>\n",
       "      <td>510.000000</td>\n",
       "      <td>510.000000</td>\n",
       "      <td>510.000000</td>\n",
       "      <td>510.000000</td>\n",
       "      <td>510.000000</td>\n",
       "      <td>510.000000</td>\n",
       "    </tr>\n",
       "    <tr>\n",
       "      <th>mean</th>\n",
       "      <td>0.507843</td>\n",
       "      <td>0.025490</td>\n",
       "      <td>0.711765</td>\n",
       "      <td>0.537440</td>\n",
       "      <td>0.650480</td>\n",
       "      <td>0.320883</td>\n",
       "      <td>0.513499</td>\n",
       "      <td>0.243137</td>\n",
       "      <td>0.247059</td>\n",
       "      <td>0.247059</td>\n",
       "      <td>...</td>\n",
       "      <td>0.084314</td>\n",
       "      <td>0.080392</td>\n",
       "      <td>0.154902</td>\n",
       "      <td>0.129412</td>\n",
       "      <td>0.137255</td>\n",
       "      <td>0.143137</td>\n",
       "      <td>0.152941</td>\n",
       "      <td>0.135294</td>\n",
       "      <td>0.345098</td>\n",
       "      <td>0.029412</td>\n",
       "    </tr>\n",
       "    <tr>\n",
       "      <th>std</th>\n",
       "      <td>0.500429</td>\n",
       "      <td>0.157763</td>\n",
       "      <td>0.453386</td>\n",
       "      <td>0.225858</td>\n",
       "      <td>0.145846</td>\n",
       "      <td>0.169803</td>\n",
       "      <td>0.224421</td>\n",
       "      <td>0.429398</td>\n",
       "      <td>0.431725</td>\n",
       "      <td>0.431725</td>\n",
       "      <td>...</td>\n",
       "      <td>0.278131</td>\n",
       "      <td>0.272166</td>\n",
       "      <td>0.362166</td>\n",
       "      <td>0.335985</td>\n",
       "      <td>0.344454</td>\n",
       "      <td>0.350557</td>\n",
       "      <td>0.360284</td>\n",
       "      <td>0.342373</td>\n",
       "      <td>0.475867</td>\n",
       "      <td>0.169124</td>\n",
       "    </tr>\n",
       "    <tr>\n",
       "      <th>min</th>\n",
       "      <td>0.000000</td>\n",
       "      <td>0.000000</td>\n",
       "      <td>0.000000</td>\n",
       "      <td>0.000000</td>\n",
       "      <td>0.000000</td>\n",
       "      <td>0.000000</td>\n",
       "      <td>0.000000</td>\n",
       "      <td>0.000000</td>\n",
       "      <td>0.000000</td>\n",
       "      <td>0.000000</td>\n",
       "      <td>...</td>\n",
       "      <td>0.000000</td>\n",
       "      <td>0.000000</td>\n",
       "      <td>0.000000</td>\n",
       "      <td>0.000000</td>\n",
       "      <td>0.000000</td>\n",
       "      <td>0.000000</td>\n",
       "      <td>0.000000</td>\n",
       "      <td>0.000000</td>\n",
       "      <td>0.000000</td>\n",
       "      <td>0.000000</td>\n",
       "    </tr>\n",
       "    <tr>\n",
       "      <th>25%</th>\n",
       "      <td>0.000000</td>\n",
       "      <td>0.000000</td>\n",
       "      <td>0.000000</td>\n",
       "      <td>0.339853</td>\n",
       "      <td>0.538643</td>\n",
       "      <td>0.199179</td>\n",
       "      <td>0.356420</td>\n",
       "      <td>0.000000</td>\n",
       "      <td>0.000000</td>\n",
       "      <td>0.000000</td>\n",
       "      <td>...</td>\n",
       "      <td>0.000000</td>\n",
       "      <td>0.000000</td>\n",
       "      <td>0.000000</td>\n",
       "      <td>0.000000</td>\n",
       "      <td>0.000000</td>\n",
       "      <td>0.000000</td>\n",
       "      <td>0.000000</td>\n",
       "      <td>0.000000</td>\n",
       "      <td>0.000000</td>\n",
       "      <td>0.000000</td>\n",
       "    </tr>\n",
       "    <tr>\n",
       "      <th>50%</th>\n",
       "      <td>1.000000</td>\n",
       "      <td>0.000000</td>\n",
       "      <td>1.000000</td>\n",
       "      <td>0.542596</td>\n",
       "      <td>0.653714</td>\n",
       "      <td>0.296763</td>\n",
       "      <td>0.518638</td>\n",
       "      <td>0.000000</td>\n",
       "      <td>0.000000</td>\n",
       "      <td>0.000000</td>\n",
       "      <td>...</td>\n",
       "      <td>0.000000</td>\n",
       "      <td>0.000000</td>\n",
       "      <td>0.000000</td>\n",
       "      <td>0.000000</td>\n",
       "      <td>0.000000</td>\n",
       "      <td>0.000000</td>\n",
       "      <td>0.000000</td>\n",
       "      <td>0.000000</td>\n",
       "      <td>0.000000</td>\n",
       "      <td>0.000000</td>\n",
       "    </tr>\n",
       "    <tr>\n",
       "      <th>75%</th>\n",
       "      <td>1.000000</td>\n",
       "      <td>0.000000</td>\n",
       "      <td>1.000000</td>\n",
       "      <td>0.735215</td>\n",
       "      <td>0.754830</td>\n",
       "      <td>0.414447</td>\n",
       "      <td>0.684710</td>\n",
       "      <td>0.000000</td>\n",
       "      <td>0.000000</td>\n",
       "      <td>0.000000</td>\n",
       "      <td>...</td>\n",
       "      <td>0.000000</td>\n",
       "      <td>0.000000</td>\n",
       "      <td>0.000000</td>\n",
       "      <td>0.000000</td>\n",
       "      <td>0.000000</td>\n",
       "      <td>0.000000</td>\n",
       "      <td>0.000000</td>\n",
       "      <td>0.000000</td>\n",
       "      <td>1.000000</td>\n",
       "      <td>0.000000</td>\n",
       "    </tr>\n",
       "    <tr>\n",
       "      <th>max</th>\n",
       "      <td>1.000000</td>\n",
       "      <td>1.000000</td>\n",
       "      <td>1.000000</td>\n",
       "      <td>1.000000</td>\n",
       "      <td>1.000000</td>\n",
       "      <td>1.000000</td>\n",
       "      <td>1.000000</td>\n",
       "      <td>1.000000</td>\n",
       "      <td>1.000000</td>\n",
       "      <td>1.000000</td>\n",
       "      <td>...</td>\n",
       "      <td>1.000000</td>\n",
       "      <td>1.000000</td>\n",
       "      <td>1.000000</td>\n",
       "      <td>1.000000</td>\n",
       "      <td>1.000000</td>\n",
       "      <td>1.000000</td>\n",
       "      <td>1.000000</td>\n",
       "      <td>1.000000</td>\n",
       "      <td>1.000000</td>\n",
       "      <td>1.000000</td>\n",
       "    </tr>\n",
       "  </tbody>\n",
       "</table>\n",
       "<p>8 rows × 29 columns</p>\n",
       "</div>"
      ],
      "text/plain": [
       "               yr     holiday  workingday        temp         hum   windspeed  \\\n",
       "count  510.000000  510.000000  510.000000  510.000000  510.000000  510.000000   \n",
       "mean     0.507843    0.025490    0.711765    0.537440    0.650480    0.320883   \n",
       "std      0.500429    0.157763    0.453386    0.225858    0.145846    0.169803   \n",
       "min      0.000000    0.000000    0.000000    0.000000    0.000000    0.000000   \n",
       "25%      0.000000    0.000000    0.000000    0.339853    0.538643    0.199179   \n",
       "50%      1.000000    0.000000    1.000000    0.542596    0.653714    0.296763   \n",
       "75%      1.000000    0.000000    1.000000    0.735215    0.754830    0.414447   \n",
       "max      1.000000    1.000000    1.000000    1.000000    1.000000    1.000000   \n",
       "\n",
       "              cnt  season_spring  season_summer  season_winter  ...  \\\n",
       "count  510.000000     510.000000     510.000000     510.000000  ...   \n",
       "mean     0.513499       0.243137       0.247059       0.247059  ...   \n",
       "std      0.224421       0.429398       0.431725       0.431725  ...   \n",
       "min      0.000000       0.000000       0.000000       0.000000  ...   \n",
       "25%      0.356420       0.000000       0.000000       0.000000  ...   \n",
       "50%      0.518638       0.000000       0.000000       0.000000  ...   \n",
       "75%      0.684710       0.000000       0.000000       0.000000  ...   \n",
       "max      1.000000       1.000000       1.000000       1.000000  ...   \n",
       "\n",
       "         mnth_oct    mnth_sep  weekday_mon  weekday_sat  weekday_sun  \\\n",
       "count  510.000000  510.000000   510.000000   510.000000   510.000000   \n",
       "mean     0.084314    0.080392     0.154902     0.129412     0.137255   \n",
       "std      0.278131    0.272166     0.362166     0.335985     0.344454   \n",
       "min      0.000000    0.000000     0.000000     0.000000     0.000000   \n",
       "25%      0.000000    0.000000     0.000000     0.000000     0.000000   \n",
       "50%      0.000000    0.000000     0.000000     0.000000     0.000000   \n",
       "75%      0.000000    0.000000     0.000000     0.000000     0.000000   \n",
       "max      1.000000    1.000000     1.000000     1.000000     1.000000   \n",
       "\n",
       "       weekday_thurs  weekday_tues  weekday_wed  weathersit_mist  \\\n",
       "count     510.000000    510.000000   510.000000       510.000000   \n",
       "mean        0.143137      0.152941     0.135294         0.345098   \n",
       "std         0.350557      0.360284     0.342373         0.475867   \n",
       "min         0.000000      0.000000     0.000000         0.000000   \n",
       "25%         0.000000      0.000000     0.000000         0.000000   \n",
       "50%         0.000000      0.000000     0.000000         0.000000   \n",
       "75%         0.000000      0.000000     0.000000         1.000000   \n",
       "max         1.000000      1.000000     1.000000         1.000000   \n",
       "\n",
       "       weathersit_snow  \n",
       "count       510.000000  \n",
       "mean          0.029412  \n",
       "std           0.169124  \n",
       "min           0.000000  \n",
       "25%           0.000000  \n",
       "50%           0.000000  \n",
       "75%           0.000000  \n",
       "max           1.000000  \n",
       "\n",
       "[8 rows x 29 columns]"
      ]
     },
     "execution_count": 29,
     "metadata": {},
     "output_type": "execute_result"
    }
   ],
   "source": [
    "data_train.describe()"
   ]
  },
  {
   "cell_type": "markdown",
   "id": "7183ec11",
   "metadata": {},
   "source": [
    "### Dividing model"
   ]
  },
  {
   "cell_type": "code",
   "execution_count": 30,
   "id": "0db87b14",
   "metadata": {},
   "outputs": [],
   "source": [
    "y_train= data_train.pop('cnt')\n",
    "X_train=data_train"
   ]
  },
  {
   "cell_type": "markdown",
   "id": "91e2fdc0",
   "metadata": {},
   "source": [
    "#### Using RFE and building model"
   ]
  },
  {
   "cell_type": "code",
   "execution_count": 31,
   "id": "9cbdef9a",
   "metadata": {},
   "outputs": [],
   "source": [
    "# required libraries\n",
    "from sklearn.feature_selection import RFE\n",
    "from sklearn.linear_model import LinearRegression"
   ]
  },
  {
   "cell_type": "code",
   "execution_count": 32,
   "id": "b2dc5191",
   "metadata": {},
   "outputs": [],
   "source": [
    "model = LinearRegression()\n",
    "model.fit(X_train, y_train)\n",
    "\n",
    "rfe = RFE(model, 15)\n",
    "rfe = rfe.fit(X_train, y_train)"
   ]
  },
  {
   "cell_type": "code",
   "execution_count": 33,
   "id": "411b7e04",
   "metadata": {},
   "outputs": [
    {
     "data": {
      "text/plain": [
       "[('yr', True, 1),\n",
       " ('holiday', True, 1),\n",
       " ('workingday', False, 3),\n",
       " ('temp', True, 1),\n",
       " ('hum', True, 1),\n",
       " ('windspeed', True, 1),\n",
       " ('season_spring', True, 1),\n",
       " ('season_summer', True, 1),\n",
       " ('season_winter', True, 1),\n",
       " ('mnth_aug', False, 9),\n",
       " ('mnth_dec', True, 1),\n",
       " ('mnth_feb', False, 2),\n",
       " ('mnth_jan', True, 1),\n",
       " ('mnth_jul', True, 1),\n",
       " ('mnth_jun', False, 11),\n",
       " ('mnth_mar', False, 14),\n",
       " ('mnth_may', False, 8),\n",
       " ('mnth_nov', True, 1),\n",
       " ('mnth_oct', False, 12),\n",
       " ('mnth_sep', True, 1),\n",
       " ('weekday_mon', False, 7),\n",
       " ('weekday_sat', False, 4),\n",
       " ('weekday_sun', False, 5),\n",
       " ('weekday_thurs', False, 13),\n",
       " ('weekday_tues', False, 6),\n",
       " ('weekday_wed', False, 10),\n",
       " ('weathersit_mist', True, 1),\n",
       " ('weathersit_snow', True, 1)]"
      ]
     },
     "execution_count": 33,
     "metadata": {},
     "output_type": "execute_result"
    }
   ],
   "source": [
    "list(zip(X_train.columns,rfe.support_,rfe.ranking_))"
   ]
  },
  {
   "cell_type": "code",
   "execution_count": 34,
   "id": "934f9224",
   "metadata": {},
   "outputs": [
    {
     "data": {
      "text/plain": [
       "Index(['yr', 'holiday', 'temp', 'hum', 'windspeed', 'season_spring',\n",
       "       'season_summer', 'season_winter', 'mnth_dec', 'mnth_jan', 'mnth_jul',\n",
       "       'mnth_nov', 'mnth_sep', 'weathersit_mist', 'weathersit_snow'],\n",
       "      dtype='object')"
      ]
     },
     "execution_count": 34,
     "metadata": {},
     "output_type": "execute_result"
    }
   ],
   "source": [
    "cols = X_train.columns[rfe.support_]\n",
    "cols"
   ]
  },
  {
   "cell_type": "code",
   "execution_count": 35,
   "id": "1948ec56",
   "metadata": {
    "scrolled": true
   },
   "outputs": [
    {
     "data": {
      "text/plain": [
       "Index(['workingday', 'mnth_aug', 'mnth_feb', 'mnth_jun', 'mnth_mar',\n",
       "       'mnth_may', 'mnth_oct', 'weekday_mon', 'weekday_sat', 'weekday_sun',\n",
       "       'weekday_thurs', 'weekday_tues', 'weekday_wed'],\n",
       "      dtype='object')"
      ]
     },
     "execution_count": 35,
     "metadata": {},
     "output_type": "execute_result"
    }
   ],
   "source": [
    "X_train.columns[~rfe.support_]"
   ]
  },
  {
   "cell_type": "code",
   "execution_count": 36,
   "id": "0105b6ef",
   "metadata": {},
   "outputs": [],
   "source": [
    "# with RFE selected variables \n",
    "X_train_rfe = X_train[cols]\n",
    "m = sm.OLS(y_train,X_train_rfe).fit()"
   ]
  },
  {
   "cell_type": "markdown",
   "id": "0a02b8e5",
   "metadata": {},
   "source": [
    "### Now building model using Stats model for better details"
   ]
  },
  {
   "cell_type": "code",
   "execution_count": 37,
   "id": "8f074f0c",
   "metadata": {},
   "outputs": [],
   "source": [
    "# importing library to check VIF\n",
    "from statsmodels.stats.outliers_influence import variance_inflation_factor"
   ]
  },
  {
   "cell_type": "code",
   "execution_count": 38,
   "id": "14696d89",
   "metadata": {},
   "outputs": [
    {
     "data": {
      "text/html": [
       "<div>\n",
       "<style scoped>\n",
       "    .dataframe tbody tr th:only-of-type {\n",
       "        vertical-align: middle;\n",
       "    }\n",
       "\n",
       "    .dataframe tbody tr th {\n",
       "        vertical-align: top;\n",
       "    }\n",
       "\n",
       "    .dataframe thead th {\n",
       "        text-align: right;\n",
       "    }\n",
       "</style>\n",
       "<table border=\"1\" class=\"dataframe\">\n",
       "  <thead>\n",
       "    <tr style=\"text-align: right;\">\n",
       "      <th></th>\n",
       "      <th>Features</th>\n",
       "      <th>VIF</th>\n",
       "    </tr>\n",
       "  </thead>\n",
       "  <tbody>\n",
       "    <tr>\n",
       "      <th>3</th>\n",
       "      <td>hum</td>\n",
       "      <td>30.89</td>\n",
       "    </tr>\n",
       "    <tr>\n",
       "      <th>2</th>\n",
       "      <td>temp</td>\n",
       "      <td>17.79</td>\n",
       "    </tr>\n",
       "    <tr>\n",
       "      <th>4</th>\n",
       "      <td>windspeed</td>\n",
       "      <td>4.72</td>\n",
       "    </tr>\n",
       "    <tr>\n",
       "      <th>5</th>\n",
       "      <td>season_spring</td>\n",
       "      <td>4.37</td>\n",
       "    </tr>\n",
       "    <tr>\n",
       "      <th>7</th>\n",
       "      <td>season_winter</td>\n",
       "      <td>4.06</td>\n",
       "    </tr>\n",
       "    <tr>\n",
       "      <th>6</th>\n",
       "      <td>season_summer</td>\n",
       "      <td>2.82</td>\n",
       "    </tr>\n",
       "    <tr>\n",
       "      <th>13</th>\n",
       "      <td>weathersit_mist</td>\n",
       "      <td>2.32</td>\n",
       "    </tr>\n",
       "    <tr>\n",
       "      <th>0</th>\n",
       "      <td>yr</td>\n",
       "      <td>2.09</td>\n",
       "    </tr>\n",
       "    <tr>\n",
       "      <th>11</th>\n",
       "      <td>mnth_nov</td>\n",
       "      <td>1.85</td>\n",
       "    </tr>\n",
       "    <tr>\n",
       "      <th>9</th>\n",
       "      <td>mnth_jan</td>\n",
       "      <td>1.75</td>\n",
       "    </tr>\n",
       "    <tr>\n",
       "      <th>10</th>\n",
       "      <td>mnth_jul</td>\n",
       "      <td>1.59</td>\n",
       "    </tr>\n",
       "    <tr>\n",
       "      <th>8</th>\n",
       "      <td>mnth_dec</td>\n",
       "      <td>1.56</td>\n",
       "    </tr>\n",
       "    <tr>\n",
       "      <th>12</th>\n",
       "      <td>mnth_sep</td>\n",
       "      <td>1.41</td>\n",
       "    </tr>\n",
       "    <tr>\n",
       "      <th>14</th>\n",
       "      <td>weathersit_snow</td>\n",
       "      <td>1.28</td>\n",
       "    </tr>\n",
       "    <tr>\n",
       "      <th>1</th>\n",
       "      <td>holiday</td>\n",
       "      <td>1.06</td>\n",
       "    </tr>\n",
       "  </tbody>\n",
       "</table>\n",
       "</div>"
      ],
      "text/plain": [
       "           Features    VIF\n",
       "3               hum  30.89\n",
       "2              temp  17.79\n",
       "4         windspeed   4.72\n",
       "5     season_spring   4.37\n",
       "7     season_winter   4.06\n",
       "6     season_summer   2.82\n",
       "13  weathersit_mist   2.32\n",
       "0                yr   2.09\n",
       "11         mnth_nov   1.85\n",
       "9          mnth_jan   1.75\n",
       "10         mnth_jul   1.59\n",
       "8          mnth_dec   1.56\n",
       "12         mnth_sep   1.41\n",
       "14  weathersit_snow   1.28\n",
       "1           holiday   1.06"
      ]
     },
     "execution_count": 38,
     "metadata": {},
     "output_type": "execute_result"
    }
   ],
   "source": [
    "# Creating new dataframe for containing names of all the feature variables and their VIF value\n",
    "vif = pd.DataFrame()\n",
    "vif['Features'] = X_train_rfe.columns\n",
    "vif['VIF'] = [variance_inflation_factor(X_train_rfe.values, i) for i in range(X_train_rfe.shape[1])]\n",
    "vif['VIF'] = round(vif['VIF'], 2)\n",
    "vif = vif.sort_values(by = \"VIF\", ascending = False)\n",
    "vif"
   ]
  },
  {
   "cell_type": "code",
   "execution_count": 39,
   "id": "a7119d8e",
   "metadata": {},
   "outputs": [],
   "source": [
    "# Adding a constant\n",
    "X_train_m1 = sm.add_constant(X_train_rfe)\n",
    "\n",
    "# fitting model\n",
    "m = sm.OLS(y_train, X_train_m1).fit()"
   ]
  },
  {
   "cell_type": "code",
   "execution_count": 40,
   "id": "90d9c924",
   "metadata": {},
   "outputs": [
    {
     "data": {
      "text/plain": [
       "const              0.319667\n",
       "yr                 0.230404\n",
       "holiday           -0.091089\n",
       "temp               0.481503\n",
       "hum               -0.162213\n",
       "windspeed         -0.188726\n",
       "season_spring     -0.061255\n",
       "season_summer      0.042337\n",
       "season_winter      0.101921\n",
       "mnth_dec          -0.035461\n",
       "mnth_jan          -0.043411\n",
       "mnth_jul          -0.055250\n",
       "mnth_nov          -0.038701\n",
       "mnth_sep           0.075467\n",
       "weathersit_mist   -0.054300\n",
       "weathersit_snow   -0.246481\n",
       "dtype: float64"
      ]
     },
     "execution_count": 40,
     "metadata": {},
     "output_type": "execute_result"
    }
   ],
   "source": [
    "m.params"
   ]
  },
  {
   "cell_type": "code",
   "execution_count": 41,
   "id": "9cd3fc6d",
   "metadata": {},
   "outputs": [
    {
     "name": "stdout",
     "output_type": "stream",
     "text": [
      "                            OLS Regression Results                            \n",
      "==============================================================================\n",
      "Dep. Variable:                    cnt   R-squared:                       0.845\n",
      "Model:                            OLS   Adj. R-squared:                  0.840\n",
      "Method:                 Least Squares   F-statistic:                     179.4\n",
      "Date:                Thu, 10 Mar 2022   Prob (F-statistic):          8.15e-189\n",
      "Time:                        20:47:43   Log-Likelihood:                 514.19\n",
      "No. Observations:                 510   AIC:                            -996.4\n",
      "Df Residuals:                     494   BIC:                            -928.6\n",
      "Df Model:                          15                                         \n",
      "Covariance Type:            nonrobust                                         \n",
      "===================================================================================\n",
      "                      coef    std err          t      P>|t|      [0.025      0.975]\n",
      "-----------------------------------------------------------------------------------\n",
      "const               0.3197      0.036      8.859      0.000       0.249       0.391\n",
      "yr                  0.2304      0.008     28.487      0.000       0.215       0.246\n",
      "holiday            -0.0911      0.026     -3.557      0.000      -0.141      -0.041\n",
      "temp                0.4815      0.037     13.005      0.000       0.409       0.554\n",
      "hum                -0.1622      0.038     -4.291      0.000      -0.236      -0.088\n",
      "windspeed          -0.1887      0.026     -7.315      0.000      -0.239      -0.138\n",
      "season_spring      -0.0613      0.021     -2.881      0.004      -0.103      -0.019\n",
      "season_summer       0.0423      0.015      2.761      0.006       0.012       0.072\n",
      "season_winter       0.1019      0.018      5.656      0.000       0.067       0.137\n",
      "mnth_dec           -0.0355      0.018     -2.024      0.043      -0.070      -0.001\n",
      "mnth_jan           -0.0434      0.018     -2.393      0.017      -0.079      -0.008\n",
      "mnth_jul           -0.0553      0.018     -3.030      0.003      -0.091      -0.019\n",
      "mnth_nov           -0.0387      0.019     -2.057      0.040      -0.076      -0.002\n",
      "mnth_sep            0.0755      0.017      4.466      0.000       0.042       0.109\n",
      "weathersit_mist    -0.0543      0.010     -5.194      0.000      -0.075      -0.034\n",
      "weathersit_snow    -0.2465      0.026     -9.331      0.000      -0.298      -0.195\n",
      "==============================================================================\n",
      "Omnibus:                       66.656   Durbin-Watson:                   2.025\n",
      "Prob(Omnibus):                  0.000   Jarque-Bera (JB):              161.040\n",
      "Skew:                          -0.682   Prob(JB):                     1.07e-35\n",
      "Kurtosis:                       5.392   Cond. No.                         20.8\n",
      "==============================================================================\n",
      "\n",
      "Notes:\n",
      "[1] Standard Errors assume that the covariance matrix of the errors is correctly specified.\n"
     ]
    }
   ],
   "source": [
    "print(m.summary())"
   ]
  },
  {
   "cell_type": "code",
   "execution_count": 42,
   "id": "c12290bb",
   "metadata": {},
   "outputs": [
    {
     "data": {
      "text/html": [
       "<div>\n",
       "<style scoped>\n",
       "    .dataframe tbody tr th:only-of-type {\n",
       "        vertical-align: middle;\n",
       "    }\n",
       "\n",
       "    .dataframe tbody tr th {\n",
       "        vertical-align: top;\n",
       "    }\n",
       "\n",
       "    .dataframe thead th {\n",
       "        text-align: right;\n",
       "    }\n",
       "</style>\n",
       "<table border=\"1\" class=\"dataframe\">\n",
       "  <thead>\n",
       "    <tr style=\"text-align: right;\">\n",
       "      <th></th>\n",
       "      <th>Features</th>\n",
       "      <th>VIF</th>\n",
       "    </tr>\n",
       "  </thead>\n",
       "  <tbody>\n",
       "    <tr>\n",
       "      <th>0</th>\n",
       "      <td>const</td>\n",
       "      <td>82.52</td>\n",
       "    </tr>\n",
       "    <tr>\n",
       "      <th>6</th>\n",
       "      <td>season_spring</td>\n",
       "      <td>5.27</td>\n",
       "    </tr>\n",
       "    <tr>\n",
       "      <th>3</th>\n",
       "      <td>temp</td>\n",
       "      <td>4.42</td>\n",
       "    </tr>\n",
       "    <tr>\n",
       "      <th>8</th>\n",
       "      <td>season_winter</td>\n",
       "      <td>3.83</td>\n",
       "    </tr>\n",
       "    <tr>\n",
       "      <th>7</th>\n",
       "      <td>season_summer</td>\n",
       "      <td>2.77</td>\n",
       "    </tr>\n",
       "    <tr>\n",
       "      <th>4</th>\n",
       "      <td>hum</td>\n",
       "      <td>1.92</td>\n",
       "    </tr>\n",
       "    <tr>\n",
       "      <th>12</th>\n",
       "      <td>mnth_nov</td>\n",
       "      <td>1.77</td>\n",
       "    </tr>\n",
       "    <tr>\n",
       "      <th>10</th>\n",
       "      <td>mnth_jan</td>\n",
       "      <td>1.68</td>\n",
       "    </tr>\n",
       "    <tr>\n",
       "      <th>14</th>\n",
       "      <td>weathersit_mist</td>\n",
       "      <td>1.57</td>\n",
       "    </tr>\n",
       "    <tr>\n",
       "      <th>9</th>\n",
       "      <td>mnth_dec</td>\n",
       "      <td>1.50</td>\n",
       "    </tr>\n",
       "    <tr>\n",
       "      <th>11</th>\n",
       "      <td>mnth_jul</td>\n",
       "      <td>1.49</td>\n",
       "    </tr>\n",
       "    <tr>\n",
       "      <th>13</th>\n",
       "      <td>mnth_sep</td>\n",
       "      <td>1.34</td>\n",
       "    </tr>\n",
       "    <tr>\n",
       "      <th>15</th>\n",
       "      <td>weathersit_snow</td>\n",
       "      <td>1.26</td>\n",
       "    </tr>\n",
       "    <tr>\n",
       "      <th>5</th>\n",
       "      <td>windspeed</td>\n",
       "      <td>1.21</td>\n",
       "    </tr>\n",
       "    <tr>\n",
       "      <th>1</th>\n",
       "      <td>yr</td>\n",
       "      <td>1.04</td>\n",
       "    </tr>\n",
       "    <tr>\n",
       "      <th>2</th>\n",
       "      <td>holiday</td>\n",
       "      <td>1.03</td>\n",
       "    </tr>\n",
       "  </tbody>\n",
       "</table>\n",
       "</div>"
      ],
      "text/plain": [
       "           Features    VIF\n",
       "0             const  82.52\n",
       "6     season_spring   5.27\n",
       "3              temp   4.42\n",
       "8     season_winter   3.83\n",
       "7     season_summer   2.77\n",
       "4               hum   1.92\n",
       "12         mnth_nov   1.77\n",
       "10         mnth_jan   1.68\n",
       "14  weathersit_mist   1.57\n",
       "9          mnth_dec   1.50\n",
       "11         mnth_jul   1.49\n",
       "13         mnth_sep   1.34\n",
       "15  weathersit_snow   1.26\n",
       "5         windspeed   1.21\n",
       "1                yr   1.04\n",
       "2           holiday   1.03"
      ]
     },
     "execution_count": 42,
     "metadata": {},
     "output_type": "execute_result"
    }
   ],
   "source": [
    "# calculating vif\n",
    "vif = pd.DataFrame()\n",
    "X = X_train_m1\n",
    "vif['Features'] = X.columns\n",
    "vif['VIF'] = [variance_inflation_factor(X.values, i) for i in range(X.shape[1])]\n",
    "vif['VIF'] = round(vif['VIF'], 2)\n",
    "vif = vif.sort_values(by = \"VIF\", ascending = False)\n",
    "vif"
   ]
  },
  {
   "cell_type": "markdown",
   "id": "181c597a",
   "metadata": {},
   "source": [
    "#### Due to high VIF of const variable we will create another model"
   ]
  },
  {
   "cell_type": "code",
   "execution_count": 43,
   "id": "56037f94",
   "metadata": {},
   "outputs": [],
   "source": [
    "X_train_m2 = X_train_m1.drop([\"const\"], axis = 1)\n",
    "\n",
    "# fitting model\n",
    "m = sm.OLS(y_train, X_train_m2).fit()"
   ]
  },
  {
   "cell_type": "code",
   "execution_count": 44,
   "id": "0e6f4dc6",
   "metadata": {},
   "outputs": [
    {
     "data": {
      "text/html": [
       "<div>\n",
       "<style scoped>\n",
       "    .dataframe tbody tr th:only-of-type {\n",
       "        vertical-align: middle;\n",
       "    }\n",
       "\n",
       "    .dataframe tbody tr th {\n",
       "        vertical-align: top;\n",
       "    }\n",
       "\n",
       "    .dataframe thead th {\n",
       "        text-align: right;\n",
       "    }\n",
       "</style>\n",
       "<table border=\"1\" class=\"dataframe\">\n",
       "  <thead>\n",
       "    <tr style=\"text-align: right;\">\n",
       "      <th></th>\n",
       "      <th>Features</th>\n",
       "      <th>VIF</th>\n",
       "    </tr>\n",
       "  </thead>\n",
       "  <tbody>\n",
       "    <tr>\n",
       "      <th>3</th>\n",
       "      <td>hum</td>\n",
       "      <td>30.89</td>\n",
       "    </tr>\n",
       "    <tr>\n",
       "      <th>2</th>\n",
       "      <td>temp</td>\n",
       "      <td>17.79</td>\n",
       "    </tr>\n",
       "    <tr>\n",
       "      <th>4</th>\n",
       "      <td>windspeed</td>\n",
       "      <td>4.72</td>\n",
       "    </tr>\n",
       "    <tr>\n",
       "      <th>5</th>\n",
       "      <td>season_spring</td>\n",
       "      <td>4.37</td>\n",
       "    </tr>\n",
       "    <tr>\n",
       "      <th>7</th>\n",
       "      <td>season_winter</td>\n",
       "      <td>4.06</td>\n",
       "    </tr>\n",
       "    <tr>\n",
       "      <th>6</th>\n",
       "      <td>season_summer</td>\n",
       "      <td>2.82</td>\n",
       "    </tr>\n",
       "    <tr>\n",
       "      <th>13</th>\n",
       "      <td>weathersit_mist</td>\n",
       "      <td>2.32</td>\n",
       "    </tr>\n",
       "    <tr>\n",
       "      <th>0</th>\n",
       "      <td>yr</td>\n",
       "      <td>2.09</td>\n",
       "    </tr>\n",
       "    <tr>\n",
       "      <th>11</th>\n",
       "      <td>mnth_nov</td>\n",
       "      <td>1.85</td>\n",
       "    </tr>\n",
       "    <tr>\n",
       "      <th>9</th>\n",
       "      <td>mnth_jan</td>\n",
       "      <td>1.75</td>\n",
       "    </tr>\n",
       "    <tr>\n",
       "      <th>10</th>\n",
       "      <td>mnth_jul</td>\n",
       "      <td>1.59</td>\n",
       "    </tr>\n",
       "    <tr>\n",
       "      <th>8</th>\n",
       "      <td>mnth_dec</td>\n",
       "      <td>1.56</td>\n",
       "    </tr>\n",
       "    <tr>\n",
       "      <th>12</th>\n",
       "      <td>mnth_sep</td>\n",
       "      <td>1.41</td>\n",
       "    </tr>\n",
       "    <tr>\n",
       "      <th>14</th>\n",
       "      <td>weathersit_snow</td>\n",
       "      <td>1.28</td>\n",
       "    </tr>\n",
       "    <tr>\n",
       "      <th>1</th>\n",
       "      <td>holiday</td>\n",
       "      <td>1.06</td>\n",
       "    </tr>\n",
       "  </tbody>\n",
       "</table>\n",
       "</div>"
      ],
      "text/plain": [
       "           Features    VIF\n",
       "3               hum  30.89\n",
       "2              temp  17.79\n",
       "4         windspeed   4.72\n",
       "5     season_spring   4.37\n",
       "7     season_winter   4.06\n",
       "6     season_summer   2.82\n",
       "13  weathersit_mist   2.32\n",
       "0                yr   2.09\n",
       "11         mnth_nov   1.85\n",
       "9          mnth_jan   1.75\n",
       "10         mnth_jul   1.59\n",
       "8          mnth_dec   1.56\n",
       "12         mnth_sep   1.41\n",
       "14  weathersit_snow   1.28\n",
       "1           holiday   1.06"
      ]
     },
     "execution_count": 44,
     "metadata": {},
     "output_type": "execute_result"
    }
   ],
   "source": [
    "# calculating vif of model 2\n",
    "vif = pd.DataFrame()\n",
    "X = X_train_m2\n",
    "vif['Features'] = X.columns\n",
    "vif['VIF'] = [variance_inflation_factor(X.values, i) for i in range(X.shape[1])]\n",
    "vif['VIF'] = round(vif['VIF'], 2)\n",
    "vif = vif.sort_values(by = \"VIF\", ascending = False)\n",
    "vif"
   ]
  },
  {
   "cell_type": "markdown",
   "id": "b66b49e4",
   "metadata": {},
   "source": [
    "#### Due to high VIF of hum variable we will drop it to check"
   ]
  },
  {
   "cell_type": "code",
   "execution_count": 45,
   "id": "b290826e",
   "metadata": {},
   "outputs": [],
   "source": [
    "X_train_m3 = X_train_m2.drop([\"hum\"], axis = 1)\n",
    "\n",
    "# fitting model\n",
    "m = sm.OLS(y_train, X_train_m3).fit()"
   ]
  },
  {
   "cell_type": "code",
   "execution_count": 46,
   "id": "0f6acec7",
   "metadata": {},
   "outputs": [
    {
     "data": {
      "text/html": [
       "<div>\n",
       "<style scoped>\n",
       "    .dataframe tbody tr th:only-of-type {\n",
       "        vertical-align: middle;\n",
       "    }\n",
       "\n",
       "    .dataframe tbody tr th {\n",
       "        vertical-align: top;\n",
       "    }\n",
       "\n",
       "    .dataframe thead th {\n",
       "        text-align: right;\n",
       "    }\n",
       "</style>\n",
       "<table border=\"1\" class=\"dataframe\">\n",
       "  <thead>\n",
       "    <tr style=\"text-align: right;\">\n",
       "      <th></th>\n",
       "      <th>Features</th>\n",
       "      <th>VIF</th>\n",
       "    </tr>\n",
       "  </thead>\n",
       "  <tbody>\n",
       "    <tr>\n",
       "      <th>2</th>\n",
       "      <td>temp</td>\n",
       "      <td>5.17</td>\n",
       "    </tr>\n",
       "    <tr>\n",
       "      <th>3</th>\n",
       "      <td>windspeed</td>\n",
       "      <td>4.67</td>\n",
       "    </tr>\n",
       "    <tr>\n",
       "      <th>6</th>\n",
       "      <td>season_winter</td>\n",
       "      <td>2.95</td>\n",
       "    </tr>\n",
       "    <tr>\n",
       "      <th>4</th>\n",
       "      <td>season_spring</td>\n",
       "      <td>2.89</td>\n",
       "    </tr>\n",
       "    <tr>\n",
       "      <th>5</th>\n",
       "      <td>season_summer</td>\n",
       "      <td>2.24</td>\n",
       "    </tr>\n",
       "    <tr>\n",
       "      <th>0</th>\n",
       "      <td>yr</td>\n",
       "      <td>2.07</td>\n",
       "    </tr>\n",
       "    <tr>\n",
       "      <th>10</th>\n",
       "      <td>mnth_nov</td>\n",
       "      <td>1.81</td>\n",
       "    </tr>\n",
       "    <tr>\n",
       "      <th>8</th>\n",
       "      <td>mnth_jan</td>\n",
       "      <td>1.66</td>\n",
       "    </tr>\n",
       "    <tr>\n",
       "      <th>9</th>\n",
       "      <td>mnth_jul</td>\n",
       "      <td>1.59</td>\n",
       "    </tr>\n",
       "    <tr>\n",
       "      <th>12</th>\n",
       "      <td>weathersit_mist</td>\n",
       "      <td>1.57</td>\n",
       "    </tr>\n",
       "    <tr>\n",
       "      <th>7</th>\n",
       "      <td>mnth_dec</td>\n",
       "      <td>1.47</td>\n",
       "    </tr>\n",
       "    <tr>\n",
       "      <th>11</th>\n",
       "      <td>mnth_sep</td>\n",
       "      <td>1.35</td>\n",
       "    </tr>\n",
       "    <tr>\n",
       "      <th>13</th>\n",
       "      <td>weathersit_snow</td>\n",
       "      <td>1.09</td>\n",
       "    </tr>\n",
       "    <tr>\n",
       "      <th>1</th>\n",
       "      <td>holiday</td>\n",
       "      <td>1.06</td>\n",
       "    </tr>\n",
       "  </tbody>\n",
       "</table>\n",
       "</div>"
      ],
      "text/plain": [
       "           Features   VIF\n",
       "2              temp  5.17\n",
       "3         windspeed  4.67\n",
       "6     season_winter  2.95\n",
       "4     season_spring  2.89\n",
       "5     season_summer  2.24\n",
       "0                yr  2.07\n",
       "10         mnth_nov  1.81\n",
       "8          mnth_jan  1.66\n",
       "9          mnth_jul  1.59\n",
       "12  weathersit_mist  1.57\n",
       "7          mnth_dec  1.47\n",
       "11         mnth_sep  1.35\n",
       "13  weathersit_snow  1.09\n",
       "1           holiday  1.06"
      ]
     },
     "execution_count": 46,
     "metadata": {},
     "output_type": "execute_result"
    }
   ],
   "source": [
    "# calculating vif of model 3\n",
    "vif = pd.DataFrame()\n",
    "X = X_train_m3\n",
    "vif['Features'] = X.columns\n",
    "vif['VIF'] = [variance_inflation_factor(X.values, i) for i in range(X.shape[1])]\n",
    "vif['VIF'] = round(vif['VIF'], 2)\n",
    "vif = vif.sort_values(by = \"VIF\", ascending = False)\n",
    "vif"
   ]
  },
  {
   "cell_type": "code",
   "execution_count": 47,
   "id": "c77b5762",
   "metadata": {},
   "outputs": [
    {
     "name": "stdout",
     "output_type": "stream",
     "text": [
      "                                 OLS Regression Results                                \n",
      "=======================================================================================\n",
      "Dep. Variable:                    cnt   R-squared (uncentered):                   0.971\n",
      "Model:                            OLS   Adj. R-squared (uncentered):              0.970\n",
      "Method:                 Least Squares   F-statistic:                              1196.\n",
      "Date:                Thu, 10 Mar 2022   Prob (F-statistic):                        0.00\n",
      "Time:                        20:47:43   Log-Likelihood:                          476.59\n",
      "No. Observations:                 510   AIC:                                     -925.2\n",
      "Df Residuals:                     496   BIC:                                     -865.9\n",
      "Df Model:                          14                                                  \n",
      "Covariance Type:            nonrobust                                                  \n",
      "===================================================================================\n",
      "                      coef    std err          t      P>|t|      [0.025      0.975]\n",
      "-----------------------------------------------------------------------------------\n",
      "yr                  0.2368      0.009     27.456      0.000       0.220       0.254\n",
      "holiday            -0.0936      0.028     -3.401      0.001      -0.148      -0.040\n",
      "temp                0.6876      0.017     41.306      0.000       0.655       0.720\n",
      "windspeed          -0.1001      0.025     -3.939      0.000      -0.150      -0.050\n",
      "season_spring       0.0535      0.015      3.637      0.000       0.025       0.082\n",
      "season_summer       0.1080      0.013      8.400      0.000       0.083       0.133\n",
      "season_winter       0.1732      0.015     11.751      0.000       0.144       0.202\n",
      "mnth_dec           -0.0007      0.018     -0.038      0.970      -0.036       0.034\n",
      "mnth_jan           -0.0072      0.018     -0.390      0.697      -0.044       0.029\n",
      "mnth_jul           -0.0384      0.019     -1.972      0.049      -0.077      -0.000\n",
      "mnth_nov           -0.0027      0.020     -0.138      0.890      -0.041       0.036\n",
      "mnth_sep            0.1012      0.018      5.780      0.000       0.067       0.136\n",
      "weathersit_mist    -0.0702      0.009     -7.722      0.000      -0.088      -0.052\n",
      "weathersit_snow    -0.2785      0.026    -10.730      0.000      -0.329      -0.228\n",
      "==============================================================================\n",
      "Omnibus:                       59.669   Durbin-Watson:                   2.096\n",
      "Prob(Omnibus):                  0.000   Jarque-Bera (JB):              109.622\n",
      "Skew:                          -0.706   Prob(JB):                     1.57e-24\n",
      "Kurtosis:                       4.779   Cond. No.                         7.16\n",
      "==============================================================================\n",
      "\n",
      "Notes:\n",
      "[1] R² is computed without centering (uncentered) since the model does not contain a constant.\n",
      "[2] Standard Errors assume that the covariance matrix of the errors is correctly specified.\n"
     ]
    }
   ],
   "source": [
    "print(m.summary())"
   ]
  },
  {
   "cell_type": "markdown",
   "id": "c10781f3",
   "metadata": {},
   "source": [
    "#### As we cannot drop temp variable because it is important we will drop windspeed and check again"
   ]
  },
  {
   "cell_type": "code",
   "execution_count": 48,
   "id": "2ed2dca5",
   "metadata": {},
   "outputs": [],
   "source": [
    "X_train_m4 = X_train_m3.drop([\"windspeed\"], axis = 1)\n",
    "\n",
    "# fitting model\n",
    "m = sm.OLS(y_train, X_train_m4).fit()"
   ]
  },
  {
   "cell_type": "code",
   "execution_count": 49,
   "id": "1c7114c1",
   "metadata": {},
   "outputs": [
    {
     "data": {
      "text/html": [
       "<div>\n",
       "<style scoped>\n",
       "    .dataframe tbody tr th:only-of-type {\n",
       "        vertical-align: middle;\n",
       "    }\n",
       "\n",
       "    .dataframe tbody tr th {\n",
       "        vertical-align: top;\n",
       "    }\n",
       "\n",
       "    .dataframe thead th {\n",
       "        text-align: right;\n",
       "    }\n",
       "</style>\n",
       "<table border=\"1\" class=\"dataframe\">\n",
       "  <thead>\n",
       "    <tr style=\"text-align: right;\">\n",
       "      <th></th>\n",
       "      <th>Features</th>\n",
       "      <th>VIF</th>\n",
       "    </tr>\n",
       "  </thead>\n",
       "  <tbody>\n",
       "    <tr>\n",
       "      <th>2</th>\n",
       "      <td>temp</td>\n",
       "      <td>4.30</td>\n",
       "    </tr>\n",
       "    <tr>\n",
       "      <th>5</th>\n",
       "      <td>season_winter</td>\n",
       "      <td>2.81</td>\n",
       "    </tr>\n",
       "    <tr>\n",
       "      <th>3</th>\n",
       "      <td>season_spring</td>\n",
       "      <td>2.12</td>\n",
       "    </tr>\n",
       "    <tr>\n",
       "      <th>0</th>\n",
       "      <td>yr</td>\n",
       "      <td>2.07</td>\n",
       "    </tr>\n",
       "    <tr>\n",
       "      <th>4</th>\n",
       "      <td>season_summer</td>\n",
       "      <td>1.94</td>\n",
       "    </tr>\n",
       "    <tr>\n",
       "      <th>9</th>\n",
       "      <td>mnth_nov</td>\n",
       "      <td>1.79</td>\n",
       "    </tr>\n",
       "    <tr>\n",
       "      <th>7</th>\n",
       "      <td>mnth_jan</td>\n",
       "      <td>1.65</td>\n",
       "    </tr>\n",
       "    <tr>\n",
       "      <th>8</th>\n",
       "      <td>mnth_jul</td>\n",
       "      <td>1.59</td>\n",
       "    </tr>\n",
       "    <tr>\n",
       "      <th>11</th>\n",
       "      <td>weathersit_mist</td>\n",
       "      <td>1.56</td>\n",
       "    </tr>\n",
       "    <tr>\n",
       "      <th>6</th>\n",
       "      <td>mnth_dec</td>\n",
       "      <td>1.47</td>\n",
       "    </tr>\n",
       "    <tr>\n",
       "      <th>10</th>\n",
       "      <td>mnth_sep</td>\n",
       "      <td>1.35</td>\n",
       "    </tr>\n",
       "    <tr>\n",
       "      <th>12</th>\n",
       "      <td>weathersit_snow</td>\n",
       "      <td>1.07</td>\n",
       "    </tr>\n",
       "    <tr>\n",
       "      <th>1</th>\n",
       "      <td>holiday</td>\n",
       "      <td>1.06</td>\n",
       "    </tr>\n",
       "  </tbody>\n",
       "</table>\n",
       "</div>"
      ],
      "text/plain": [
       "           Features   VIF\n",
       "2              temp  4.30\n",
       "5     season_winter  2.81\n",
       "3     season_spring  2.12\n",
       "0                yr  2.07\n",
       "4     season_summer  1.94\n",
       "9          mnth_nov  1.79\n",
       "7          mnth_jan  1.65\n",
       "8          mnth_jul  1.59\n",
       "11  weathersit_mist  1.56\n",
       "6          mnth_dec  1.47\n",
       "10         mnth_sep  1.35\n",
       "12  weathersit_snow  1.07\n",
       "1           holiday  1.06"
      ]
     },
     "execution_count": 49,
     "metadata": {},
     "output_type": "execute_result"
    }
   ],
   "source": [
    "# calculating vif of model 4\n",
    "vif = pd.DataFrame()\n",
    "X = X_train_m4\n",
    "vif['Features'] = X.columns\n",
    "vif['VIF'] = [variance_inflation_factor(X.values, i) for i in range(X.shape[1])]\n",
    "vif['VIF'] = round(vif['VIF'], 2)\n",
    "vif = vif.sort_values(by = \"VIF\", ascending = False)\n",
    "vif"
   ]
  },
  {
   "cell_type": "code",
   "execution_count": 50,
   "id": "5d3ca7b1",
   "metadata": {},
   "outputs": [
    {
     "name": "stdout",
     "output_type": "stream",
     "text": [
      "                                 OLS Regression Results                                \n",
      "=======================================================================================\n",
      "Dep. Variable:                    cnt   R-squared (uncentered):                   0.970\n",
      "Model:                            OLS   Adj. R-squared (uncentered):              0.970\n",
      "Method:                 Least Squares   F-statistic:                              1250.\n",
      "Date:                Thu, 10 Mar 2022   Prob (F-statistic):                        0.00\n",
      "Time:                        20:47:43   Log-Likelihood:                          468.73\n",
      "No. Observations:                 510   AIC:                                     -911.5\n",
      "Df Residuals:                     497   BIC:                                     -856.4\n",
      "Df Model:                          13                                                  \n",
      "Covariance Type:            nonrobust                                                  \n",
      "===================================================================================\n",
      "                      coef    std err          t      P>|t|      [0.025      0.975]\n",
      "-----------------------------------------------------------------------------------\n",
      "yr                  0.2355      0.009     26.935      0.000       0.218       0.253\n",
      "holiday            -0.0949      0.028     -3.399      0.001      -0.150      -0.040\n",
      "temp                0.6608      0.015     42.886      0.000       0.630       0.691\n",
      "season_spring       0.0236      0.013      1.847      0.065      -0.002       0.049\n",
      "season_summer       0.0895      0.012      7.372      0.000       0.066       0.113\n",
      "season_winter       0.1605      0.015     11.000      0.000       0.132       0.189\n",
      "mnth_dec           -0.0013      0.018     -0.073      0.942      -0.037       0.034\n",
      "mnth_jan           -0.0031      0.019     -0.163      0.870      -0.040       0.034\n",
      "mnth_jul           -0.0412      0.020     -2.087      0.037      -0.080      -0.002\n",
      "mnth_nov           -0.0105      0.020     -0.533      0.594      -0.049       0.028\n",
      "mnth_sep            0.0992      0.018      5.586      0.000       0.064       0.134\n",
      "weathersit_mist    -0.0709      0.009     -7.693      0.000      -0.089      -0.053\n",
      "weathersit_snow    -0.2907      0.026    -11.120      0.000      -0.342      -0.239\n",
      "==============================================================================\n",
      "Omnibus:                       64.602   Durbin-Watson:                   2.063\n",
      "Prob(Omnibus):                  0.000   Jarque-Bera (JB):              128.325\n",
      "Skew:                          -0.728   Prob(JB):                     1.36e-28\n",
      "Kurtosis:                       4.980   Cond. No.                         6.58\n",
      "==============================================================================\n",
      "\n",
      "Notes:\n",
      "[1] R² is computed without centering (uncentered) since the model does not contain a constant.\n",
      "[2] Standard Errors assume that the covariance matrix of the errors is correctly specified.\n"
     ]
    }
   ],
   "source": [
    "print(m.summary())"
   ]
  },
  {
   "cell_type": "markdown",
   "id": "0e788b8f",
   "metadata": {},
   "source": [
    "### Now that VIF is less than 5 we will remove columns will high P values"
   ]
  },
  {
   "cell_type": "code",
   "execution_count": 51,
   "id": "62e27685",
   "metadata": {},
   "outputs": [],
   "source": [
    "X_train_m5 = X_train_m4.drop(['mnth_dec','mnth_jan','mnth_nov','mnth_jul','season_spring'], axis = 1)\n",
    "\n",
    "# fitting model\n",
    "m = sm.OLS(y_train, X_train_m5).fit()"
   ]
  },
  {
   "cell_type": "code",
   "execution_count": 52,
   "id": "aa6ac509",
   "metadata": {},
   "outputs": [
    {
     "data": {
      "text/html": [
       "<div>\n",
       "<style scoped>\n",
       "    .dataframe tbody tr th:only-of-type {\n",
       "        vertical-align: middle;\n",
       "    }\n",
       "\n",
       "    .dataframe tbody tr th {\n",
       "        vertical-align: top;\n",
       "    }\n",
       "\n",
       "    .dataframe thead th {\n",
       "        text-align: right;\n",
       "    }\n",
       "</style>\n",
       "<table border=\"1\" class=\"dataframe\">\n",
       "  <thead>\n",
       "    <tr style=\"text-align: right;\">\n",
       "      <th></th>\n",
       "      <th>Features</th>\n",
       "      <th>VIF</th>\n",
       "    </tr>\n",
       "  </thead>\n",
       "  <tbody>\n",
       "    <tr>\n",
       "      <th>2</th>\n",
       "      <td>temp</td>\n",
       "      <td>2.85</td>\n",
       "    </tr>\n",
       "    <tr>\n",
       "      <th>0</th>\n",
       "      <td>yr</td>\n",
       "      <td>1.94</td>\n",
       "    </tr>\n",
       "    <tr>\n",
       "      <th>3</th>\n",
       "      <td>season_summer</td>\n",
       "      <td>1.52</td>\n",
       "    </tr>\n",
       "    <tr>\n",
       "      <th>6</th>\n",
       "      <td>weathersit_mist</td>\n",
       "      <td>1.44</td>\n",
       "    </tr>\n",
       "    <tr>\n",
       "      <th>4</th>\n",
       "      <td>season_winter</td>\n",
       "      <td>1.34</td>\n",
       "    </tr>\n",
       "    <tr>\n",
       "      <th>5</th>\n",
       "      <td>mnth_sep</td>\n",
       "      <td>1.19</td>\n",
       "    </tr>\n",
       "    <tr>\n",
       "      <th>7</th>\n",
       "      <td>weathersit_snow</td>\n",
       "      <td>1.06</td>\n",
       "    </tr>\n",
       "    <tr>\n",
       "      <th>1</th>\n",
       "      <td>holiday</td>\n",
       "      <td>1.03</td>\n",
       "    </tr>\n",
       "  </tbody>\n",
       "</table>\n",
       "</div>"
      ],
      "text/plain": [
       "          Features   VIF\n",
       "2             temp  2.85\n",
       "0               yr  1.94\n",
       "3    season_summer  1.52\n",
       "6  weathersit_mist  1.44\n",
       "4    season_winter  1.34\n",
       "5         mnth_sep  1.19\n",
       "7  weathersit_snow  1.06\n",
       "1          holiday  1.03"
      ]
     },
     "execution_count": 52,
     "metadata": {},
     "output_type": "execute_result"
    }
   ],
   "source": [
    "# calculating vif of model 5\n",
    "vif = pd.DataFrame()\n",
    "X = X_train_m5\n",
    "vif['Features'] = X.columns\n",
    "vif['VIF'] = [variance_inflation_factor(X.values, i) for i in range(X.shape[1])]\n",
    "vif['VIF'] = round(vif['VIF'], 2)\n",
    "vif = vif.sort_values(by = \"VIF\", ascending = False)\n",
    "vif"
   ]
  },
  {
   "cell_type": "code",
   "execution_count": 53,
   "id": "bae815f2",
   "metadata": {},
   "outputs": [
    {
     "name": "stdout",
     "output_type": "stream",
     "text": [
      "                                 OLS Regression Results                                \n",
      "=======================================================================================\n",
      "Dep. Variable:                    cnt   R-squared (uncentered):                   0.970\n",
      "Model:                            OLS   Adj. R-squared (uncentered):              0.969\n",
      "Method:                 Least Squares   F-statistic:                              2002.\n",
      "Date:                Thu, 10 Mar 2022   Prob (F-statistic):                        0.00\n",
      "Time:                        20:47:43   Log-Likelihood:                          462.62\n",
      "No. Observations:                 510   AIC:                                     -909.2\n",
      "Df Residuals:                     502   BIC:                                     -875.4\n",
      "Df Model:                           8                                                  \n",
      "Covariance Type:            nonrobust                                                  \n",
      "===================================================================================\n",
      "                      coef    std err          t      P>|t|      [0.025      0.975]\n",
      "-----------------------------------------------------------------------------------\n",
      "yr                  0.2414      0.009     28.335      0.000       0.225       0.258\n",
      "holiday            -0.0870      0.028     -3.145      0.002      -0.141      -0.033\n",
      "temp                0.6472      0.013     51.243      0.000       0.622       0.672\n",
      "season_summer       0.0915      0.011      8.469      0.000       0.070       0.113\n",
      "season_winter       0.1561      0.010     15.381      0.000       0.136       0.176\n",
      "mnth_sep            0.1029      0.017      6.121      0.000       0.070       0.136\n",
      "weathersit_mist    -0.0637      0.009     -7.145      0.000      -0.081      -0.046\n",
      "weathersit_snow    -0.2855      0.026    -10.912      0.000      -0.337      -0.234\n",
      "==============================================================================\n",
      "Omnibus:                       78.774   Durbin-Watson:                   2.091\n",
      "Prob(Omnibus):                  0.000   Jarque-Bera (JB):              163.744\n",
      "Skew:                          -0.852   Prob(JB):                     2.78e-36\n",
      "Kurtosis:                       5.192   Cond. No.                         6.26\n",
      "==============================================================================\n",
      "\n",
      "Notes:\n",
      "[1] R² is computed without centering (uncentered) since the model does not contain a constant.\n",
      "[2] Standard Errors assume that the covariance matrix of the errors is correctly specified.\n"
     ]
    }
   ],
   "source": [
    "print(m.summary())"
   ]
  },
  {
   "cell_type": "code",
   "execution_count": 54,
   "id": "3a6dc77f",
   "metadata": {},
   "outputs": [
    {
     "data": {
      "text/plain": [
       "yr                 0.241415\n",
       "holiday           -0.087021\n",
       "temp               0.647189\n",
       "season_summer      0.091454\n",
       "season_winter      0.156133\n",
       "mnth_sep           0.102877\n",
       "weathersit_mist   -0.063659\n",
       "weathersit_snow   -0.285536\n",
       "dtype: float64"
      ]
     },
     "execution_count": 54,
     "metadata": {},
     "output_type": "execute_result"
    }
   ],
   "source": [
    "m.params"
   ]
  },
  {
   "cell_type": "markdown",
   "id": "033a966e",
   "metadata": {},
   "source": [
    "#### There seems to be LOW Multicollinearity between the predictors and the p-values thus we can move further"
   ]
  },
  {
   "cell_type": "markdown",
   "id": "02f18c87",
   "metadata": {},
   "source": [
    "### Making assumptions"
   ]
  },
  {
   "cell_type": "code",
   "execution_count": 55,
   "id": "ec94b40b",
   "metadata": {},
   "outputs": [],
   "source": [
    "y_train_pred = m.predict(X_train_m5)"
   ]
  },
  {
   "cell_type": "code",
   "execution_count": 56,
   "id": "d580b50b",
   "metadata": {
    "scrolled": true
   },
   "outputs": [
    {
     "data": {
      "text/plain": [
       "Text(0.5, 0, 'Errors')"
      ]
     },
     "execution_count": 56,
     "metadata": {},
     "output_type": "execute_result"
    },
    {
     "data": {
      "image/png": "[encoded data removed]",
      "text/plain": [
       "<Figure size 432x288 with 1 Axes>"
      ]
     },
     "metadata": {
      "needs_background": "light"
     },
     "output_type": "display_data"
    }
   ],
   "source": [
    "diff = y_train - y_train_pred\n",
    "# Plot the histogram of the error terms\n",
    "fig = plt.figure()\n",
    "sns.distplot((diff), bins = 20)\n",
    "fig.suptitle('Error Terms', fontsize = 20)\n",
    "plt.xlabel('Errors', fontsize = 18)                         "
   ]
  },
  {
   "cell_type": "markdown",
   "id": "2d497406",
   "metadata": {},
   "source": [
    "#### From the graph we can conclude that residuals are normally distributed"
   ]
  },
  {
   "cell_type": "code",
   "execution_count": 57,
   "id": "560c5158",
   "metadata": {
    "scrolled": true
   },
   "outputs": [
    {
     "data": {
      "text/plain": [
       "yr                 0.241415\n",
       "holiday           -0.087021\n",
       "temp               0.647189\n",
       "season_summer      0.091454\n",
       "season_winter      0.156133\n",
       "mnth_sep           0.102877\n",
       "weathersit_mist   -0.063659\n",
       "weathersit_snow   -0.285536\n",
       "dtype: float64"
      ]
     },
     "execution_count": 57,
     "metadata": {},
     "output_type": "execute_result"
    }
   ],
   "source": [
    "m.params"
   ]
  },
  {
   "cell_type": "code",
   "execution_count": 58,
   "id": "e1c105aa",
   "metadata": {},
   "outputs": [
    {
     "data": {
      "text/html": [
       "<div>\n",
       "<style scoped>\n",
       "    .dataframe tbody tr th:only-of-type {\n",
       "        vertical-align: middle;\n",
       "    }\n",
       "\n",
       "    .dataframe tbody tr th {\n",
       "        vertical-align: top;\n",
       "    }\n",
       "\n",
       "    .dataframe thead th {\n",
       "        text-align: right;\n",
       "    }\n",
       "</style>\n",
       "<table border=\"1\" class=\"dataframe\">\n",
       "  <thead>\n",
       "    <tr style=\"text-align: right;\">\n",
       "      <th></th>\n",
       "      <th>yr</th>\n",
       "      <th>holiday</th>\n",
       "      <th>workingday</th>\n",
       "      <th>temp</th>\n",
       "      <th>hum</th>\n",
       "      <th>windspeed</th>\n",
       "      <th>cnt</th>\n",
       "      <th>season_spring</th>\n",
       "      <th>season_summer</th>\n",
       "      <th>season_winter</th>\n",
       "      <th>...</th>\n",
       "      <th>mnth_oct</th>\n",
       "      <th>mnth_sep</th>\n",
       "      <th>weekday_mon</th>\n",
       "      <th>weekday_sat</th>\n",
       "      <th>weekday_sun</th>\n",
       "      <th>weekday_thurs</th>\n",
       "      <th>weekday_tues</th>\n",
       "      <th>weekday_wed</th>\n",
       "      <th>weathersit_mist</th>\n",
       "      <th>weathersit_snow</th>\n",
       "    </tr>\n",
       "  </thead>\n",
       "  <tbody>\n",
       "    <tr>\n",
       "      <th>184</th>\n",
       "      <td>0</td>\n",
       "      <td>1</td>\n",
       "      <td>0</td>\n",
       "      <td>0.837241</td>\n",
       "      <td>0.534223</td>\n",
       "      <td>0.149393</td>\n",
       "      <td>0.704300</td>\n",
       "      <td>0</td>\n",
       "      <td>0</td>\n",
       "      <td>0</td>\n",
       "      <td>...</td>\n",
       "      <td>0</td>\n",
       "      <td>0</td>\n",
       "      <td>0</td>\n",
       "      <td>0</td>\n",
       "      <td>0</td>\n",
       "      <td>0</td>\n",
       "      <td>0</td>\n",
       "      <td>1</td>\n",
       "      <td>1</td>\n",
       "      <td>0</td>\n",
       "    </tr>\n",
       "    <tr>\n",
       "      <th>535</th>\n",
       "      <td>1</td>\n",
       "      <td>0</td>\n",
       "      <td>1</td>\n",
       "      <td>0.911423</td>\n",
       "      <td>0.470417</td>\n",
       "      <td>0.231142</td>\n",
       "      <td>0.725421</td>\n",
       "      <td>0</td>\n",
       "      <td>1</td>\n",
       "      <td>0</td>\n",
       "      <td>...</td>\n",
       "      <td>0</td>\n",
       "      <td>0</td>\n",
       "      <td>0</td>\n",
       "      <td>0</td>\n",
       "      <td>0</td>\n",
       "      <td>1</td>\n",
       "      <td>0</td>\n",
       "      <td>0</td>\n",
       "      <td>0</td>\n",
       "      <td>0</td>\n",
       "    </tr>\n",
       "    <tr>\n",
       "      <th>299</th>\n",
       "      <td>0</td>\n",
       "      <td>0</td>\n",
       "      <td>0</td>\n",
       "      <td>0.496221</td>\n",
       "      <td>0.777843</td>\n",
       "      <td>0.443398</td>\n",
       "      <td>0.278853</td>\n",
       "      <td>0</td>\n",
       "      <td>0</td>\n",
       "      <td>1</td>\n",
       "      <td>...</td>\n",
       "      <td>1</td>\n",
       "      <td>0</td>\n",
       "      <td>0</td>\n",
       "      <td>1</td>\n",
       "      <td>0</td>\n",
       "      <td>0</td>\n",
       "      <td>0</td>\n",
       "      <td>0</td>\n",
       "      <td>1</td>\n",
       "      <td>0</td>\n",
       "    </tr>\n",
       "    <tr>\n",
       "      <th>221</th>\n",
       "      <td>0</td>\n",
       "      <td>0</td>\n",
       "      <td>1</td>\n",
       "      <td>0.890387</td>\n",
       "      <td>0.236659</td>\n",
       "      <td>0.449707</td>\n",
       "      <td>0.545512</td>\n",
       "      <td>0</td>\n",
       "      <td>0</td>\n",
       "      <td>0</td>\n",
       "      <td>...</td>\n",
       "      <td>0</td>\n",
       "      <td>0</td>\n",
       "      <td>0</td>\n",
       "      <td>0</td>\n",
       "      <td>0</td>\n",
       "      <td>0</td>\n",
       "      <td>0</td>\n",
       "      <td>0</td>\n",
       "      <td>0</td>\n",
       "      <td>0</td>\n",
       "    </tr>\n",
       "    <tr>\n",
       "      <th>152</th>\n",
       "      <td>0</td>\n",
       "      <td>0</td>\n",
       "      <td>0</td>\n",
       "      <td>0.821739</td>\n",
       "      <td>0.070765</td>\n",
       "      <td>0.682387</td>\n",
       "      <td>0.569148</td>\n",
       "      <td>0</td>\n",
       "      <td>1</td>\n",
       "      <td>0</td>\n",
       "      <td>...</td>\n",
       "      <td>0</td>\n",
       "      <td>0</td>\n",
       "      <td>0</td>\n",
       "      <td>1</td>\n",
       "      <td>0</td>\n",
       "      <td>0</td>\n",
       "      <td>0</td>\n",
       "      <td>0</td>\n",
       "      <td>0</td>\n",
       "      <td>0</td>\n",
       "    </tr>\n",
       "  </tbody>\n",
       "</table>\n",
       "<p>5 rows × 29 columns</p>\n",
       "</div>"
      ],
      "text/plain": [
       "     yr  holiday  workingday      temp       hum  windspeed       cnt  \\\n",
       "184   0        1           0  0.837241  0.534223   0.149393  0.704300   \n",
       "535   1        0           1  0.911423  0.470417   0.231142  0.725421   \n",
       "299   0        0           0  0.496221  0.777843   0.443398  0.278853   \n",
       "221   0        0           1  0.890387  0.236659   0.449707  0.545512   \n",
       "152   0        0           0  0.821739  0.070765   0.682387  0.569148   \n",
       "\n",
       "     season_spring  season_summer  season_winter  ...  mnth_oct  mnth_sep  \\\n",
       "184              0              0              0  ...         0         0   \n",
       "535              0              1              0  ...         0         0   \n",
       "299              0              0              1  ...         1         0   \n",
       "221              0              0              0  ...         0         0   \n",
       "152              0              1              0  ...         0         0   \n",
       "\n",
       "     weekday_mon  weekday_sat  weekday_sun  weekday_thurs  weekday_tues  \\\n",
       "184            0            0            0              0             0   \n",
       "535            0            0            0              1             0   \n",
       "299            0            1            0              0             0   \n",
       "221            0            0            0              0             0   \n",
       "152            0            1            0              0             0   \n",
       "\n",
       "     weekday_wed  weathersit_mist  weathersit_snow  \n",
       "184            1                1                0  \n",
       "535            0                0                0  \n",
       "299            0                1                0  \n",
       "221            0                0                0  \n",
       "152            0                0                0  \n",
       "\n",
       "[5 rows x 29 columns]"
      ]
     },
     "execution_count": 58,
     "metadata": {},
     "output_type": "execute_result"
    }
   ],
   "source": [
    "# scaling test data\n",
    "# scaler= MinMaxScaler()\n",
    "# num_var=['temp','hum','windspeed','cnt']\n",
    "data_test[num_var]=scaler.fit_transform(data_test[num_var])\n",
    "data_test.head()"
   ]
  },
  {
   "cell_type": "code",
   "execution_count": 59,
   "id": "f1780f5a",
   "metadata": {},
   "outputs": [],
   "source": [
    "# setting y_test and x_test \n",
    "y_test = data_test.pop('cnt')\n",
    "X_test = data_test"
   ]
  },
  {
   "cell_type": "code",
   "execution_count": 60,
   "id": "58073d51",
   "metadata": {},
   "outputs": [
    {
     "name": "stdout",
     "output_type": "stream",
     "text": [
      "<class 'pandas.core.frame.DataFrame'>\n",
      "Int64Index: 220 entries, 184 to 653\n",
      "Data columns (total 8 columns):\n",
      " #   Column           Non-Null Count  Dtype  \n",
      "---  ------           --------------  -----  \n",
      " 0   yr               220 non-null    int64  \n",
      " 1   holiday          220 non-null    int64  \n",
      " 2   temp             220 non-null    float64\n",
      " 3   season_summer    220 non-null    uint8  \n",
      " 4   season_winter    220 non-null    uint8  \n",
      " 5   mnth_sep         220 non-null    uint8  \n",
      " 6   weathersit_mist  220 non-null    uint8  \n",
      " 7   weathersit_snow  220 non-null    uint8  \n",
      "dtypes: float64(1), int64(2), uint8(5)\n",
      "memory usage: 7.9 KB\n"
     ]
    }
   ],
   "source": [
    "#Adding variables we finalized in the last model\n",
    "col1=X_train_m5.columns\n",
    "X_test=X_test[col1]\n",
    "\n",
    "X_test.info()"
   ]
  },
  {
   "cell_type": "code",
   "execution_count": 61,
   "id": "2d590c5f",
   "metadata": {
    "scrolled": true
   },
   "outputs": [],
   "source": [
    "# predicting y_testpred\n",
    "y_testpred = m.predict(X_test)"
   ]
  },
  {
   "cell_type": "code",
   "execution_count": 62,
   "id": "5264c079",
   "metadata": {},
   "outputs": [
    {
     "name": "stdout",
     "output_type": "stream",
     "text": [
      "0.793560914478004\n"
     ]
    }
   ],
   "source": [
    "# calculating the accuracy of the y_test\n",
    "r2_score = metrics.r2_score(y_test,y_testpred)\n",
    "print(r2_score)"
   ]
  },
  {
   "cell_type": "code",
   "execution_count": 63,
   "id": "bdaa22fe",
   "metadata": {},
   "outputs": [
    {
     "data": {
      "text/plain": [
       "Text(0, 0.5, 'y_testpred')"
      ]
     },
     "execution_count": 63,
     "metadata": {},
     "output_type": "execute_result"
    },
    {
     "data": {
      "image/png": "[encoded data removed]",
      "text/plain": [
       "<Figure size 432x288 with 1 Axes>"
      ]
     },
     "metadata": {
      "needs_background": "light"
     },
     "output_type": "display_data"
    }
   ],
   "source": [
    "# graph for y_test and y_testpred \n",
    "fig = plt.figure()\n",
    "plt.scatter(y_test, y_testpred)\n",
    "plt.xlabel('y_test', fontsize = 18)\n",
    "plt.ylabel('y_testpred', fontsize = 16)"
   ]
  },
  {
   "cell_type": "code",
   "execution_count": null,
   "id": "374c8504",
   "metadata": {},
   "outputs": [],
   "source": []
  }
 ],
 "metadata": {
  "celltoolbar": "Raw Cell Format",
  "kernelspec": {
   "display_name": "Python 3",
   "language": "python",
   "name": "python3"
  },
  "language_info": {
   "codemirror_mode": {
    "name": "ipython",
    "version": 3
   },
   "file_extension": ".py",
   "mimetype": "text/x-python",
   "name": "python",
   "nbconvert_exporter": "python",
   "pygments_lexer": "ipython3",
   "version": "3.8.8"
  }
 },
 "nbformat": 4,
 "nbformat_minor": 5
}
